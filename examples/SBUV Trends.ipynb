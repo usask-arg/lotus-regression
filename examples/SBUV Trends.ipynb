{
 "cells": [
  {
   "cell_type": "code",
   "execution_count": 1,
   "metadata": {
    "collapsed": true,
    "execution": {
     "iopub.execute_input": "2023-07-12T15:29:31.127751Z",
     "iopub.status.busy": "2023-07-12T15:29:31.127299Z",
     "iopub.status.idle": "2023-07-12T15:29:31.638059Z",
     "shell.execute_reply": "2023-07-12T15:29:31.635403Z"
    },
    "nbsphinx": "hidden"
   },
   "outputs": [],
   "source": [
    "%matplotlib inline\n",
    "import warnings\n",
    "warnings.filterwarnings('ignore')"
   ]
  },
  {
   "cell_type": "markdown",
   "metadata": {},
   "source": [
    "# Trends with the SBUV NOAA Dataset\n",
    "Here we calculate trends using the GOZCARDS dataset by regressing to the VMR monthly zonal means using seasonal terms in our predictors."
   ]
  },
  {
   "cell_type": "code",
   "execution_count": 2,
   "metadata": {
    "collapsed": true,
    "execution": {
     "iopub.execute_input": "2023-07-12T15:29:31.642419Z",
     "iopub.status.busy": "2023-07-12T15:29:31.642006Z",
     "iopub.status.idle": "2023-07-12T15:29:36.428818Z",
     "shell.execute_reply": "2023-07-12T15:29:36.427775Z"
    }
   },
   "outputs": [
    {
     "ename": "IndexError",
     "evalue": "dimension coordinate 'time' conflicts between indexed and indexing objects:\n<xarray.DataArray 'time' (time: 468)>\narray(['1978-01-01T00:00:00.000000000', '1978-02-01T00:00:00.000000000',\n       '1978-03-01T00:00:00.000000000', ..., '2016-10-01T00:00:00.000000000',\n       '2016-11-01T00:00:00.000000000', '2016-12-01T00:00:00.000000000'],\n      dtype='datetime64[ns]')\nCoordinates:\n  * time     (time) datetime64[ns] 1978-01-01 1978-02-01 ... 2016-12-01\nvs.\n<xarray.IndexVariable 'time' (time: 468)>\narray(['2011-01-01T00:00:00.000000000', '2011-02-01T00:00:00.000000000',\n       '2011-03-01T00:00:00.000000000', ..., '1990-10-01T00:00:00.000000000',\n       '1990-11-01T00:00:00.000000000', '1990-12-01T00:00:00.000000000'],\n      dtype='datetime64[ns]')",
     "output_type": "error",
     "traceback": [
      "\u001b[0;31m---------------------------------------------------------------------------\u001b[0m",
      "\u001b[0;31mIndexError\u001b[0m                                Traceback (most recent call last)",
      "Cell \u001b[0;32mIn[2], line 9\u001b[0m\n\u001b[1;32m      5\u001b[0m \u001b[38;5;28;01mfrom\u001b[39;00m \u001b[38;5;21;01mLOTUS_regression\u001b[39;00m\u001b[38;5;21;01m.\u001b[39;00m\u001b[38;5;21;01mpredictors\u001b[39;00m\u001b[38;5;21;01m.\u001b[39;00m\u001b[38;5;21;01mseasonal\u001b[39;00m \u001b[38;5;28;01mimport\u001b[39;00m add_seasonal_components\n\u001b[1;32m      6\u001b[0m \u001b[38;5;28;01mfrom\u001b[39;00m \u001b[38;5;21;01mLOTUS_regression\u001b[39;00m\u001b[38;5;21;01m.\u001b[39;00m\u001b[38;5;21;01mpredictors\u001b[39;00m \u001b[38;5;28;01mimport\u001b[39;00m load_data\n\u001b[0;32m----> 9\u001b[0m data \u001b[38;5;241m=\u001b[39m \u001b[43mSBUV_NOAA\u001b[49m\u001b[43m(\u001b[49m\u001b[38;5;124;43mr\u001b[39;49m\u001b[38;5;124;43m'\u001b[39;49m\u001b[38;5;124;43m/home/runner/work/lotus-regression/lotus-regression/test_data//SBUV_NOAA/\u001b[39;49m\u001b[38;5;124;43m'\u001b[39;49m\u001b[43m)\u001b[49m\n",
      "File \u001b[0;32m/usr/share/miniconda/envs/doc_env/lib/python3.10/site-packages/LOTUS_regression-0.8.1-py3.10.egg/LOTUS_regression/dataset/sbuv.py:16\u001b[0m, in \u001b[0;36mSBUV_NOAA\u001b[0;34m(folder)\u001b[0m\n\u001b[1;32m     12\u001b[0m vmr_files \u001b[38;5;241m=\u001b[39m glob\u001b[38;5;241m.\u001b[39mglob(os\u001b[38;5;241m.\u001b[39mpath\u001b[38;5;241m.\u001b[39mjoin(folder, \u001b[38;5;124m'\u001b[39m\u001b[38;5;124m*_mn*_vmr.dat\u001b[39m\u001b[38;5;124m'\u001b[39m))\n\u001b[1;32m     14\u001b[0m data \u001b[38;5;241m=\u001b[39m xr\u001b[38;5;241m.\u001b[39mconcat([_parse_SBUV_NOAA(f) \u001b[38;5;28;01mfor\u001b[39;00m f \u001b[38;5;129;01min\u001b[39;00m vmr_files], dim\u001b[38;5;241m=\u001b[39m\u001b[38;5;124m'\u001b[39m\u001b[38;5;124mtime\u001b[39m\u001b[38;5;124m'\u001b[39m)\n\u001b[0;32m---> 16\u001b[0m data \u001b[38;5;241m=\u001b[39m \u001b[43mdata\u001b[49m\u001b[38;5;241;43m.\u001b[39;49m\u001b[43misel\u001b[49m\u001b[43m(\u001b[49m\u001b[43mtime\u001b[49m\u001b[38;5;241;43m=\u001b[39;49m\u001b[43mdata\u001b[49m\u001b[43m[\u001b[49m\u001b[38;5;124;43m'\u001b[39;49m\u001b[38;5;124;43mtime\u001b[39;49m\u001b[38;5;124;43m'\u001b[39;49m\u001b[43m]\u001b[49m\u001b[38;5;241;43m.\u001b[39;49m\u001b[43margsort\u001b[49m\u001b[43m(\u001b[49m\u001b[43m)\u001b[49m\u001b[43m)\u001b[49m\n\u001b[1;32m     18\u001b[0m data \u001b[38;5;241m=\u001b[39m data\u001b[38;5;241m.\u001b[39mwhere(data[\u001b[38;5;124m'\u001b[39m\u001b[38;5;124mvmr\u001b[39m\u001b[38;5;124m'\u001b[39m] \u001b[38;5;241m!=\u001b[39m \u001b[38;5;241m99\u001b[39m)\n\u001b[1;32m     20\u001b[0m \u001b[38;5;28;01mreturn\u001b[39;00m data\n",
      "File \u001b[0;32m/usr/share/miniconda/envs/doc_env/lib/python3.10/site-packages/xarray-2023.6.0-py3.10.egg/xarray/core/dataset.py:2507\u001b[0m, in \u001b[0;36mDataset.isel\u001b[0;34m(self, indexers, drop, missing_dims, **indexers_kwargs)\u001b[0m\n\u001b[1;32m   2505\u001b[0m indexers \u001b[38;5;241m=\u001b[39m either_dict_or_kwargs(indexers, indexers_kwargs, \u001b[38;5;124m\"\u001b[39m\u001b[38;5;124misel\u001b[39m\u001b[38;5;124m\"\u001b[39m)\n\u001b[1;32m   2506\u001b[0m \u001b[38;5;28;01mif\u001b[39;00m \u001b[38;5;28many\u001b[39m(is_fancy_indexer(idx) \u001b[38;5;28;01mfor\u001b[39;00m idx \u001b[38;5;129;01min\u001b[39;00m indexers\u001b[38;5;241m.\u001b[39mvalues()):\n\u001b[0;32m-> 2507\u001b[0m     \u001b[38;5;28;01mreturn\u001b[39;00m \u001b[38;5;28;43mself\u001b[39;49m\u001b[38;5;241;43m.\u001b[39;49m\u001b[43m_isel_fancy\u001b[49m\u001b[43m(\u001b[49m\u001b[43mindexers\u001b[49m\u001b[43m,\u001b[49m\u001b[43m \u001b[49m\u001b[43mdrop\u001b[49m\u001b[38;5;241;43m=\u001b[39;49m\u001b[43mdrop\u001b[49m\u001b[43m,\u001b[49m\u001b[43m \u001b[49m\u001b[43mmissing_dims\u001b[49m\u001b[38;5;241;43m=\u001b[39;49m\u001b[43mmissing_dims\u001b[49m\u001b[43m)\u001b[49m\n\u001b[1;32m   2509\u001b[0m \u001b[38;5;66;03m# Much faster algorithm for when all indexers are ints, slices, one-dimensional\u001b[39;00m\n\u001b[1;32m   2510\u001b[0m \u001b[38;5;66;03m# lists, or zero or one-dimensional np.ndarray's\u001b[39;00m\n\u001b[1;32m   2511\u001b[0m indexers \u001b[38;5;241m=\u001b[39m drop_dims_from_indexers(indexers, \u001b[38;5;28mself\u001b[39m\u001b[38;5;241m.\u001b[39mdims, missing_dims)\n",
      "File \u001b[0;32m/usr/share/miniconda/envs/doc_env/lib/python3.10/site-packages/xarray-2023.6.0-py3.10.egg/xarray/core/dataset.py:2578\u001b[0m, in \u001b[0;36mDataset._isel_fancy\u001b[0;34m(self, indexers, drop, missing_dims)\u001b[0m\n\u001b[1;32m   2575\u001b[0m selected \u001b[38;5;241m=\u001b[39m \u001b[38;5;28mself\u001b[39m\u001b[38;5;241m.\u001b[39m_replace_with_new_dims(variables, coord_names, indexes)\n\u001b[1;32m   2577\u001b[0m \u001b[38;5;66;03m# Extract coordinates from indexers\u001b[39;00m\n\u001b[0;32m-> 2578\u001b[0m coord_vars, new_indexes \u001b[38;5;241m=\u001b[39m \u001b[43mselected\u001b[49m\u001b[38;5;241;43m.\u001b[39;49m\u001b[43m_get_indexers_coords_and_indexes\u001b[49m\u001b[43m(\u001b[49m\u001b[43mindexers\u001b[49m\u001b[43m)\u001b[49m\n\u001b[1;32m   2579\u001b[0m variables\u001b[38;5;241m.\u001b[39mupdate(coord_vars)\n\u001b[1;32m   2580\u001b[0m indexes\u001b[38;5;241m.\u001b[39mupdate(new_indexes)\n",
      "File \u001b[0;32m/usr/share/miniconda/envs/doc_env/lib/python3.10/site-packages/xarray-2023.6.0-py3.10.egg/xarray/core/dataset.py:2443\u001b[0m, in \u001b[0;36mDataset._get_indexers_coords_and_indexes\u001b[0;34m(self, indexers)\u001b[0m\n\u001b[1;32m   2439\u001b[0m \u001b[38;5;66;03m# we don't need to call align() explicitly or check indexes for\u001b[39;00m\n\u001b[1;32m   2440\u001b[0m \u001b[38;5;66;03m# alignment, because merge_variables already checks for exact alignment\u001b[39;00m\n\u001b[1;32m   2441\u001b[0m \u001b[38;5;66;03m# between dimension coordinates\u001b[39;00m\n\u001b[1;32m   2442\u001b[0m coords, indexes \u001b[38;5;241m=\u001b[39m merge_coordinates_without_align(coords_list)\n\u001b[0;32m-> 2443\u001b[0m \u001b[43massert_coordinate_consistent\u001b[49m\u001b[43m(\u001b[49m\u001b[38;5;28;43mself\u001b[39;49m\u001b[43m,\u001b[49m\u001b[43m \u001b[49m\u001b[43mcoords\u001b[49m\u001b[43m)\u001b[49m\n\u001b[1;32m   2445\u001b[0m \u001b[38;5;66;03m# silently drop the conflicted variables.\u001b[39;00m\n\u001b[1;32m   2446\u001b[0m attached_coords \u001b[38;5;241m=\u001b[39m {k: v \u001b[38;5;28;01mfor\u001b[39;00m k, v \u001b[38;5;129;01min\u001b[39;00m coords\u001b[38;5;241m.\u001b[39mitems() \u001b[38;5;28;01mif\u001b[39;00m k \u001b[38;5;129;01mnot\u001b[39;00m \u001b[38;5;129;01min\u001b[39;00m \u001b[38;5;28mself\u001b[39m\u001b[38;5;241m.\u001b[39m_variables}\n",
      "File \u001b[0;32m/usr/share/miniconda/envs/doc_env/lib/python3.10/site-packages/xarray-2023.6.0-py3.10.egg/xarray/core/coordinates.py:476\u001b[0m, in \u001b[0;36massert_coordinate_consistent\u001b[0;34m(obj, coords)\u001b[0m\n\u001b[1;32m    473\u001b[0m \u001b[38;5;28;01mfor\u001b[39;00m k \u001b[38;5;129;01min\u001b[39;00m obj\u001b[38;5;241m.\u001b[39mdims:\n\u001b[1;32m    474\u001b[0m     \u001b[38;5;66;03m# make sure there are no conflict in dimension coordinates\u001b[39;00m\n\u001b[1;32m    475\u001b[0m     \u001b[38;5;28;01mif\u001b[39;00m k \u001b[38;5;129;01min\u001b[39;00m coords \u001b[38;5;129;01mand\u001b[39;00m k \u001b[38;5;129;01min\u001b[39;00m obj\u001b[38;5;241m.\u001b[39mcoords \u001b[38;5;129;01mand\u001b[39;00m \u001b[38;5;129;01mnot\u001b[39;00m coords[k]\u001b[38;5;241m.\u001b[39mequals(obj[k]\u001b[38;5;241m.\u001b[39mvariable):\n\u001b[0;32m--> 476\u001b[0m         \u001b[38;5;28;01mraise\u001b[39;00m \u001b[38;5;167;01mIndexError\u001b[39;00m(\n\u001b[1;32m    477\u001b[0m             \u001b[38;5;124mf\u001b[39m\u001b[38;5;124m\"\u001b[39m\u001b[38;5;124mdimension coordinate \u001b[39m\u001b[38;5;132;01m{\u001b[39;00mk\u001b[38;5;132;01m!r}\u001b[39;00m\u001b[38;5;124m conflicts between \u001b[39m\u001b[38;5;124m\"\u001b[39m\n\u001b[1;32m    478\u001b[0m             \u001b[38;5;124mf\u001b[39m\u001b[38;5;124m\"\u001b[39m\u001b[38;5;124mindexed and indexing objects:\u001b[39m\u001b[38;5;130;01m\\n\u001b[39;00m\u001b[38;5;132;01m{\u001b[39;00mobj[k]\u001b[38;5;132;01m}\u001b[39;00m\u001b[38;5;130;01m\\n\u001b[39;00m\u001b[38;5;124mvs.\u001b[39m\u001b[38;5;130;01m\\n\u001b[39;00m\u001b[38;5;132;01m{\u001b[39;00mcoords[k]\u001b[38;5;132;01m}\u001b[39;00m\u001b[38;5;124m\"\u001b[39m\n\u001b[1;32m    479\u001b[0m         )\n",
      "\u001b[0;31mIndexError\u001b[0m: dimension coordinate 'time' conflicts between indexed and indexing objects:\n<xarray.DataArray 'time' (time: 468)>\narray(['1978-01-01T00:00:00.000000000', '1978-02-01T00:00:00.000000000',\n       '1978-03-01T00:00:00.000000000', ..., '2016-10-01T00:00:00.000000000',\n       '2016-11-01T00:00:00.000000000', '2016-12-01T00:00:00.000000000'],\n      dtype='datetime64[ns]')\nCoordinates:\n  * time     (time) datetime64[ns] 1978-01-01 1978-02-01 ... 2016-12-01\nvs.\n<xarray.IndexVariable 'time' (time: 468)>\narray(['2011-01-01T00:00:00.000000000', '2011-02-01T00:00:00.000000000',\n       '2011-03-01T00:00:00.000000000', ..., '1990-10-01T00:00:00.000000000',\n       '1990-11-01T00:00:00.000000000', '1990-12-01T00:00:00.000000000'],\n      dtype='datetime64[ns]')"
     ]
    }
   ],
   "source": [
    "from LOTUS_regression.dataset.sbuv import SBUV_NOAA\n",
    "import xarray as xr\n",
    "import numpy as np\n",
    "from LOTUS_regression.regression import regress_all_bins\n",
    "from LOTUS_regression.predictors.seasonal import add_seasonal_components\n",
    "from LOTUS_regression.predictors import load_data\n",
    "\n",
    "\n",
    "data = SBUV_NOAA(r'/home/runner/work/lotus-regression/lotus-regression/test_data//SBUV_NOAA/')"
   ]
  },
  {
   "cell_type": "code",
   "execution_count": 3,
   "metadata": {
    "collapsed": true,
    "execution": {
     "iopub.execute_input": "2023-07-12T15:29:36.432437Z",
     "iopub.status.busy": "2023-07-12T15:29:36.432122Z",
     "iopub.status.idle": "2023-07-12T15:29:36.452884Z",
     "shell.execute_reply": "2023-07-12T15:29:36.451937Z"
    }
   },
   "outputs": [
    {
     "ename": "NameError",
     "evalue": "name 'data' is not defined",
     "output_type": "error",
     "traceback": [
      "\u001b[0;31m---------------------------------------------------------------------------\u001b[0m",
      "\u001b[0;31mNameError\u001b[0m                                 Traceback (most recent call last)",
      "Cell \u001b[0;32mIn[3], line 1\u001b[0m\n\u001b[0;32m----> 1\u001b[0m data \u001b[38;5;241m=\u001b[39m \u001b[43mdata\u001b[49m\u001b[38;5;241m.\u001b[39mloc[\u001b[38;5;28mdict\u001b[39m(mean_latitude\u001b[38;5;241m=\u001b[39m\u001b[38;5;28mslice\u001b[39m(\u001b[38;5;241m-\u001b[39m\u001b[38;5;241m60\u001b[39m, \u001b[38;5;241m60\u001b[39m))]\n\u001b[1;32m      3\u001b[0m data \u001b[38;5;241m=\u001b[39m data\u001b[38;5;241m.\u001b[39mwhere(data\u001b[38;5;241m.\u001b[39mtime \u001b[38;5;241m<\u001b[39m np\u001b[38;5;241m.\u001b[39mdatetime64(\u001b[38;5;124m'\u001b[39m\u001b[38;5;124m2013\u001b[39m\u001b[38;5;124m'\u001b[39m), drop\u001b[38;5;241m=\u001b[39m\u001b[38;5;28;01mTrue\u001b[39;00m)\n\u001b[1;32m      5\u001b[0m \u001b[38;5;28mprint\u001b[39m(data)\n",
      "\u001b[0;31mNameError\u001b[0m: name 'data' is not defined"
     ]
    }
   ],
   "source": [
    "data = data.loc[dict(mean_latitude=slice(-60, 60))]\n",
    "\n",
    "data = data.where(data.time < np.datetime64('2013'), drop=True)\n",
    "\n",
    "print(data)"
   ]
  },
  {
   "cell_type": "code",
   "execution_count": 4,
   "metadata": {
    "collapsed": true,
    "execution": {
     "iopub.execute_input": "2023-07-12T15:29:36.455979Z",
     "iopub.status.busy": "2023-07-12T15:29:36.455697Z",
     "iopub.status.idle": "2023-07-12T15:29:36.468067Z",
     "shell.execute_reply": "2023-07-12T15:29:36.467116Z"
    }
   },
   "outputs": [
    {
     "name": "stdout",
     "output_type": "stream",
     "text": [
      "Index(['enso', 'solar', 'qboA', 'qboB', 'aod', 'linear_pre', 'linear_post',\n",
      "       'constant'],\n",
      "      dtype='object')\n"
     ]
    }
   ],
   "source": [
    "predictors = load_data('pred_baseline_pwlt.csv')\n",
    "\n",
    "print(predictors.columns)"
   ]
  },
  {
   "cell_type": "code",
   "execution_count": 5,
   "metadata": {
    "collapsed": true,
    "execution": {
     "iopub.execute_input": "2023-07-12T15:29:36.471736Z",
     "iopub.status.busy": "2023-07-12T15:29:36.471196Z",
     "iopub.status.idle": "2023-07-12T15:29:36.520035Z",
     "shell.execute_reply": "2023-07-12T15:29:36.519128Z"
    }
   },
   "outputs": [
    {
     "name": "stdout",
     "output_type": "stream",
     "text": [
      "                enso     solar      qboA      qboB       aod  linear_pre  \\\n",
      "time                                                                       \n",
      "1979-01-01  0.499274  1.568564 -0.991782 -0.925437 -0.395539   -1.800000   \n",
      "1979-02-01  0.281624  1.622217 -1.024426 -1.028774 -0.396092   -1.791667   \n",
      "1979-03-01 -0.070762  1.312212 -1.147750 -0.659631 -0.397189   -1.783333   \n",
      "1979-04-01  0.219438  1.127112 -1.138165 -0.399319 -0.399997   -1.775000   \n",
      "1979-05-01  0.291988  1.002103 -1.205567  0.058949 -0.403881   -1.766667   \n",
      "\n",
      "            linear_post  constant  qboA_sin0  qboA_cos0  ...  \\\n",
      "time                                                     ...   \n",
      "1979-01-01          0.0       1.0  -0.000000  -0.991782  ...   \n",
      "1979-02-01          0.0       1.0  -0.520774  -0.882181  ...   \n",
      "1979-03-01          0.0       1.0  -0.974957  -0.605631  ...   \n",
      "1979-04-01          0.0       1.0  -1.137875  -0.025696  ...   \n",
      "1979-05-01          0.0       1.0  -1.061723   0.571085  ...   \n",
      "\n",
      "            linear_post_sin1  linear_post_cos1  constant_sin0  constant_cos0  \\\n",
      "time                                                                           \n",
      "1979-01-01               0.0               0.0       0.000000       1.000000   \n",
      "1979-02-01               0.0               0.0       0.508356       0.861147   \n",
      "1979-03-01               0.0              -0.0       0.849450       0.527668   \n",
      "1979-04-01               0.0              -0.0       0.999745       0.022576   \n",
      "1979-05-01              -0.0              -0.0       0.880683      -0.473706   \n",
      "\n",
      "            constant_sin1  constant_cos1  constant_sin2  constant_cos2  \\\n",
      "time                                                                     \n",
      "1979-01-01       0.000000       1.000000       0.000000       1.000000   \n",
      "1979-02-01       0.875539       0.483147       0.999579      -0.029025   \n",
      "1979-03-01       0.896456      -0.443132       0.096613      -0.995322   \n",
      "1979-04-01       0.045141      -0.998981      -0.997707      -0.067683   \n",
      "1979-05-01      -0.834370      -0.551205      -0.090190       0.995925   \n",
      "\n",
      "            constant_sin3  constant_cos3  \n",
      "time                                      \n",
      "1979-01-01       0.000000       1.000000  \n",
      "1979-02-01       0.846029      -0.533137  \n",
      "1979-03-01      -0.794497      -0.607268  \n",
      "1979-04-01      -0.090190       0.995925  \n",
      "1979-05-01       0.919817      -0.392347  \n",
      "\n",
      "[5 rows x 32 columns]\n"
     ]
    }
   ],
   "source": [
    "predictors = add_seasonal_components(predictors, {'constant': 4, 'linear_pre': 2, 'linear_post': 2, 'qboA': 2, 'qboB': 2})\n",
    "\n",
    "print(predictors[:5])"
   ]
  },
  {
   "cell_type": "code",
   "execution_count": 6,
   "metadata": {
    "collapsed": true,
    "execution": {
     "iopub.execute_input": "2023-07-12T15:29:36.523814Z",
     "iopub.status.busy": "2023-07-12T15:29:36.523530Z",
     "iopub.status.idle": "2023-07-12T15:29:36.544864Z",
     "shell.execute_reply": "2023-07-12T15:29:36.543823Z"
    }
   },
   "outputs": [
    {
     "ename": "NameError",
     "evalue": "name 'data' is not defined",
     "output_type": "error",
     "traceback": [
      "\u001b[0;31m---------------------------------------------------------------------------\u001b[0m",
      "\u001b[0;31mNameError\u001b[0m                                 Traceback (most recent call last)",
      "Cell \u001b[0;32mIn[6], line 1\u001b[0m\n\u001b[0;32m----> 1\u001b[0m results \u001b[38;5;241m=\u001b[39m regress_all_bins(predictors, \u001b[43mdata\u001b[49m[\u001b[38;5;124m'\u001b[39m\u001b[38;5;124mvmr\u001b[39m\u001b[38;5;124m'\u001b[39m], tolerance\u001b[38;5;241m=\u001b[39m\u001b[38;5;241m0.1\u001b[39m, debug\u001b[38;5;241m=\u001b[39m\u001b[38;5;28;01mTrue\u001b[39;00m)\n\u001b[1;32m      3\u001b[0m \u001b[38;5;66;03m# Convert to ~ percent\u001b[39;00m\n\u001b[1;32m      4\u001b[0m results \u001b[38;5;241m/\u001b[39m\u001b[38;5;241m=\u001b[39m data[\u001b[38;5;124m'\u001b[39m\u001b[38;5;124mvmr\u001b[39m\u001b[38;5;124m'\u001b[39m]\u001b[38;5;241m.\u001b[39mmean(dim\u001b[38;5;241m=\u001b[39m\u001b[38;5;124m'\u001b[39m\u001b[38;5;124mtime\u001b[39m\u001b[38;5;124m'\u001b[39m)\n",
      "\u001b[0;31mNameError\u001b[0m: name 'data' is not defined"
     ]
    }
   ],
   "source": [
    "results = regress_all_bins(predictors, data['vmr'], tolerance=0.1, debug=True)\n",
    "\n",
    "# Convert to ~ percent\n",
    "results /= data['vmr'].mean(dim='time')\n",
    "results *= 100\n",
    "\n",
    "print(results)"
   ]
  },
  {
   "cell_type": "code",
   "execution_count": 7,
   "metadata": {
    "collapsed": true,
    "execution": {
     "iopub.execute_input": "2023-07-12T15:29:36.548439Z",
     "iopub.status.busy": "2023-07-12T15:29:36.548177Z",
     "iopub.status.idle": "2023-07-12T15:29:36.570569Z",
     "shell.execute_reply": "2023-07-12T15:29:36.569681Z"
    }
   },
   "outputs": [
    {
     "ename": "NameError",
     "evalue": "name 'results' is not defined",
     "output_type": "error",
     "traceback": [
      "\u001b[0;31m---------------------------------------------------------------------------\u001b[0m",
      "\u001b[0;31mNameError\u001b[0m                                 Traceback (most recent call last)",
      "Cell \u001b[0;32mIn[7], line 2\u001b[0m\n\u001b[1;32m      1\u001b[0m \u001b[38;5;28;01mimport\u001b[39;00m \u001b[38;5;21;01mLOTUS_regression\u001b[39;00m\u001b[38;5;21;01m.\u001b[39;00m\u001b[38;5;21;01mplotting\u001b[39;00m\u001b[38;5;21;01m.\u001b[39;00m\u001b[38;5;21;01mtrends\u001b[39;00m \u001b[38;5;28;01mas\u001b[39;00m \u001b[38;5;21;01mtrends\u001b[39;00m\n\u001b[0;32m----> 2\u001b[0m trends\u001b[38;5;241m.\u001b[39mpre_post_with_confidence(\u001b[43mresults\u001b[49m, x\u001b[38;5;241m=\u001b[39m\u001b[38;5;124m'\u001b[39m\u001b[38;5;124mmean_latitude\u001b[39m\u001b[38;5;124m'\u001b[39m, y\u001b[38;5;241m=\u001b[39m\u001b[38;5;124m'\u001b[39m\u001b[38;5;124mpressure\u001b[39m\u001b[38;5;124m'\u001b[39m, ylim\u001b[38;5;241m=\u001b[39m(\u001b[38;5;241m100\u001b[39m, \u001b[38;5;241m0.5\u001b[39m), log_y\u001b[38;5;241m=\u001b[39m\u001b[38;5;28;01mTrue\u001b[39;00m, figsize\u001b[38;5;241m=\u001b[39m(\u001b[38;5;241m16\u001b[39m, \u001b[38;5;241m6\u001b[39m),\n\u001b[1;32m      3\u001b[0m                                 x_label\u001b[38;5;241m=\u001b[39m\u001b[38;5;124m'\u001b[39m\u001b[38;5;124mLatitude [$^\u001b[39m\u001b[38;5;124m\\\u001b[39m\u001b[38;5;124mcirc$]\u001b[39m\u001b[38;5;124m'\u001b[39m, y_label\u001b[38;5;241m=\u001b[39m\u001b[38;5;124m'\u001b[39m\u001b[38;5;124mPressure [hPa]\u001b[39m\u001b[38;5;124m'\u001b[39m, pre_title\u001b[38;5;241m=\u001b[39m\u001b[38;5;124m'\u001b[39m\u001b[38;5;124mPre 1997\u001b[39m\u001b[38;5;124m'\u001b[39m,\n\u001b[1;32m      4\u001b[0m                                 post_title\u001b[38;5;241m=\u001b[39m\u001b[38;5;124m'\u001b[39m\u001b[38;5;124mPost 1997\u001b[39m\u001b[38;5;124m'\u001b[39m)\n",
      "\u001b[0;31mNameError\u001b[0m: name 'results' is not defined"
     ]
    }
   ],
   "source": [
    "import LOTUS_regression.plotting.trends as trends\n",
    "trends.pre_post_with_confidence(results, x='mean_latitude', y='pressure', ylim=(100, 0.5), log_y=True, figsize=(16, 6),\n",
    "                                x_label='Latitude [$^\\circ$]', y_label='Pressure [hPa]', pre_title='Pre 1997',\n",
    "                                post_title='Post 1997')"
   ]
  }
 ],
 "metadata": {
  "celltoolbar": "Edit Metadata",
  "kernelspec": {
   "display_name": "Python 3",
   "language": "python",
   "name": "python3"
  },
  "language_info": {
   "codemirror_mode": {
    "name": "ipython",
    "version": 3
   },
   "file_extension": ".py",
   "mimetype": "text/x-python",
   "name": "python",
   "nbconvert_exporter": "python",
   "pygments_lexer": "ipython3",
   "version": "3.10.12"
  }
 },
 "nbformat": 4,
 "nbformat_minor": 2
}
