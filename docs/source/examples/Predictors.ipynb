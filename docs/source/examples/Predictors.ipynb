{
 "cells": [
  {
   "cell_type": "code",
   "execution_count": null,
   "metadata": {
    "collapsed": true,
    "nbsphinx": "hidden"
   },
   "outputs": [],
   "source": [
    "%matplotlib inline\n",
    "import warnings\n",
    "warnings.filterwarnings('ignore')"
   ]
  },
  {
   "cell_type": "markdown",
   "metadata": {},
   "source": [
    "# Predictors\n",
    "\n",
    "Predictors are something that can be created separately from this package if desired, however, for convenience we provide a sample set of predictors as well as some convenience methods for creating new ones.\n",
    "\n",
    "The sample set of predictors can be loaded in with"
   ]
  },
  {
   "cell_type": "code",
   "execution_count": null,
   "metadata": {},
   "outputs": [],
   "source": [
    "import matplotlib.pyplot as plt\n",
    "import LOTUS_regression.predictors as predictors\n",
    "\n",
    "pred = predictors.load_data('predictors.csv')\n",
    "\n",
    "print(pred[:5])"
   ]
  },
  {
   "cell_type": "markdown",
   "metadata": {},
   "source": [
    "The sample set contains \n",
    "\n",
    "    * ENSO from http://www.esrl.noaa.gov/psd/enso/mei/table.html\n",
    "    * Three orthogonal components of the QBO from http://www.geo.fu-berlin.de/met/ag/strat/produkte/qbo/qbo.dat calculated with PCA\n",
    "    * Solar f10.7 from http://www.spaceweather.ca/data-donnee/sol_flux/sx-5-mavg-eng.php\n",
    "    * Tropopause pressure from ftp.cdc.noaa.gov in Datasets/ncep.reanalysis.derived/tropopause/\n",
    "    * Piecewise linear terms with an inflection at 1997 that are expressed in per decade\n",
    "\n",
    "These predictors (with the exception of the linear terms) have been scaled to have mean 0 with standard deviation of 1.  Each predictor begins in 1978 and ends at 2017"
   ]
  },
  {
   "cell_type": "code",
   "execution_count": null,
   "metadata": {},
   "outputs": [],
   "source": [
    "pred.plot(figsize=(16,8))\n",
    "plt.show()"
   ]
  },
  {
   "cell_type": "markdown",
   "metadata": {},
   "source": [
    "Functions are also provided to download each of these predictors from their respective sources"
   ]
  },
  {
   "cell_type": "code",
   "execution_count": null,
   "metadata": {},
   "outputs": [],
   "source": [
    "import LOTUS_regression.predictors.download as download\n",
    "\n",
    "enso = download.load_enso()\n",
    "\n",
    "enso.plot(figsize=(18, 5))\n",
    "plt.show()"
   ]
  },
  {
   "cell_type": "markdown",
   "metadata": {},
   "source": [
    "A constant is not automatically added to the predictors list but can be easily done"
   ]
  },
  {
   "cell_type": "code",
   "execution_count": null,
   "metadata": {},
   "outputs": [],
   "source": [
    "import numpy as np\n",
    "\n",
    "pred['constant'] = np.ones(len(pred.index))\n",
    "\n",
    "pred['constant'].plot(figsize=(18, 5))\n",
    "plt.show()"
   ]
  },
  {
   "cell_type": "markdown",
   "metadata": {},
   "source": [
    "One final tool included is the ability to create predictors modulated by seasonal components."
   ]
  },
  {
   "cell_type": "code",
   "execution_count": null,
   "metadata": {},
   "outputs": [],
   "source": [
    "from LOTUS_regression.predictors.seasonal import add_seasonal_components\n",
    "\n",
    "const_with_seasons = add_seasonal_components(pred, {'constant': 4})\n",
    "\n",
    "const_with_seasons.plot(figsize=(18, 5))\n",
    "plt.show()"
   ]
  }
 ],
 "metadata": {
  "celltoolbar": "Edit Metadata",
  "kernelspec": {
   "display_name": "Python 3",
   "language": "python",
   "name": "python3"
  },
  "language_info": {
   "codemirror_mode": {
    "name": "ipython",
    "version": 3
   },
   "file_extension": ".py",
   "mimetype": "text/x-python",
   "name": "python",
   "nbconvert_exporter": "python",
   "pygments_lexer": "ipython3",
   "version": "3.6.1"
  }
 },
 "nbformat": 4,
 "nbformat_minor": 2
}
