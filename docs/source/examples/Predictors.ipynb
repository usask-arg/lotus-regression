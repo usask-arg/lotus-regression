{
 "cells": [
  {
   "cell_type": "code",
   "execution_count": null,
   "metadata": {
    "nbsphinx": "hidden"
   },
   "outputs": [],
   "source": [
    "%matplotlib inline\n",
    "import warnings\n",
    "warnings.filterwarnings('ignore')"
   ]
  },
  {
   "cell_type": "markdown",
   "metadata": {},
   "source": [
    "# Predictors\n",
    "\n",
    "Predictors are something that can be created separately from this package if desired, however, for convenience we provide a sample set of predictors as well as some convenience methods for creating new ones.\n",
    "\n",
    "The sample set of predictors can be loaded in with"
   ]
  },
  {
   "cell_type": "code",
   "execution_count": null,
   "metadata": {},
   "outputs": [],
   "source": [
    "import matplotlib.pyplot as plt\n",
    "import LOTUS_regression.predictors as predictors\n",
    "\n",
    "pred = predictors.load_data('pred_baseline_pwlt.csv')\n",
    "\n",
    "print(pred[:5])"
   ]
  },
  {
   "cell_type": "markdown",
   "metadata": {},
   "source": [
    "The sample set contains \n",
    "\n",
    "    * ENSO from http://www.esrl.noaa.gov/psd/enso/mei/table.html\n",
    "    * Three orthogonal components of the QBO from http://www.geo.fu-berlin.de/met/ag/strat/produkte/qbo/qbo.dat calculated with PCA\n",
    "    * Solar f10.7 from http://www.spaceweather.ca/data-donnee/sol_flux/sx-5-mavg-eng.php\n",
    "    * Piecewise linear terms with an inflection at 1997 that are expressed in per decade\n",
    "    * GloSSAC AOD from https://asdc.larc.nasa.gov/project/GloSSAC/GloSSAC_2.0\n",
    "\n",
    "These predictors (with the exception of the linear terms) have been scaled to have mean 0 with standard deviation of 1.  Each predictor begins in 1978 and ends at 2021-05.  A constant is also included by default."
   ]
  },
  {
   "cell_type": "code",
   "execution_count": null,
   "metadata": {},
   "outputs": [],
   "source": [
    "pred.plot(figsize=(16,8))\n",
    "plt.show()"
   ]
  },
  {
   "cell_type": "markdown",
   "metadata": {},
   "source": [
    "Three other baseline predictor files are included, `pred_baseline_eesc.csv`, `pred_baseline_ilt.csv`, `pred_baseline_ilt_continuous.csv`. Predictors are similar between the four files with the exception of the linear terms. \n",
    "\n",
    "`pred_baseline_eesc.csv` contains two orthogonal components of the EESC calculated using principal component analysis for different mean ages of air instead of the piecewise linear term.\n",
    "\n",
    "`pred_baseline_ilt.csv` also contains two linear terms, the first is the \"pre\" term ending at 1997-01-01, and the second is the \"post\" term beginning at 2000-01-01.  The difference is that multiple constant terms are included which allow the two time periods to be essentially independent of each other.  This is in contrast with the PWLT predictors which force a common value at 1997 \n",
    "\n",
    "`pred_baseline_ilt_continuous.csv` is a modification of the previous ILT terms where continuity is enforced at the start of the pre period (1997-01-01) and the start of the post period (2000-01-01).  This is done by modifying the pre and post constants to include a linear variation within the gap period."
   ]
  },
  {
   "cell_type": "markdown",
   "metadata": {},
   "source": [
    "Functions are also provided to download each individual predictor from its respective source"
   ]
  },
  {
   "cell_type": "code",
   "execution_count": null,
   "metadata": {},
   "outputs": [],
   "source": [
    "import LOTUS_regression.predictors.download as download\n",
    "\n",
    "enso = download.load_enso()\n",
    "\n",
    "enso.plot(figsize=(18, 5))\n",
    "plt.show()"
   ]
  },
  {
   "cell_type": "markdown",
   "metadata": {},
   "source": [
    "One final tool included is the ability to create predictors modulated by seasonal components.  This is useful if you are regressing to data that has not been deseasonalized."
   ]
  },
  {
   "cell_type": "code",
   "execution_count": null,
   "metadata": {},
   "outputs": [],
   "source": [
    "from LOTUS_regression.predictors.seasonal import add_seasonal_components\n",
    "\n",
    "const_with_seasons = add_seasonal_components(pred, {'constant': 4})\n",
    "\n",
    "const_with_seasons.plot(figsize=(18, 5))\n",
    "plt.show()"
   ]
  },
  {
   "cell_type": "markdown",
   "metadata": {},
   "source": [
    "# Extra Predictors\n",
    "\n",
    "Some additional predictors are included for testing purposes, these currently are tropopause pressure and the GISS AOD.  The additional predictors can be loaded in with"
   ]
  },
  {
   "cell_type": "code",
   "execution_count": null,
   "metadata": {},
   "outputs": [],
   "source": [
    "extra_predictors = predictors.load_data('pred_extra.csv')"
   ]
  },
  {
   "cell_type": "markdown",
   "metadata": {},
   "source": [
    "and used to modify the standard predictors.  E.g., we can change the GloSSAC AOD to the GISS AOD with"
   ]
  },
  {
   "cell_type": "code",
   "execution_count": null,
   "metadata": {},
   "outputs": [],
   "source": [
    "pred['aod'] = extra_predictors['giss_aod']"
   ]
  }
 ],
 "metadata": {
  "celltoolbar": "Edit Metadata",
  "kernelspec": {
   "display_name": "Python 3",
   "language": "python",
   "name": "python3"
  },
  "language_info": {
   "codemirror_mode": {
    "name": "ipython",
    "version": 3
   },
   "file_extension": ".py",
   "mimetype": "text/x-python",
   "name": "python",
   "nbconvert_exporter": "python",
   "pygments_lexer": "ipython3",
   "version": "3.8.5"
  }
 },
 "nbformat": 4,
 "nbformat_minor": 2
}
