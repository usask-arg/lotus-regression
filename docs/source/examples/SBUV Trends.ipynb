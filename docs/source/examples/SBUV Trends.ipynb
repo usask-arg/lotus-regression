{
 "cells": [
  {
   "cell_type": "code",
   "execution_count": 1,
   "metadata": {
    "collapsed": true,
    "nbsphinx": "hidden",
    "ExecuteTime": {
     "end_time": "2024-02-23T17:29:58.805887Z",
     "start_time": "2024-02-23T17:29:58.518793Z"
    }
   },
   "outputs": [],
   "source": [
    "%matplotlib inline\n",
    "import warnings\n",
    "warnings.filterwarnings('ignore')"
   ]
  },
  {
   "cell_type": "markdown",
   "metadata": {},
   "source": [
    "# Trends with the SBUV NOAA Dataset\n",
    "Here we calculate trends using the GOZCARDS dataset by regressing to the VMR monthly zonal means using seasonal terms in our predictors."
   ]
  },
  {
   "cell_type": "code",
   "execution_count": 3,
   "metadata": {
    "collapsed": true,
    "ExecuteTime": {
     "end_time": "2024-02-23T17:30:39.813920Z",
     "start_time": "2024-02-23T17:30:38.580232Z"
    }
   },
   "outputs": [
    {
     "ename": "IndexError",
     "evalue": "dimension coordinate 'time' conflicts between indexed and indexing objects:\n<xarray.DataArray 'time' (time: 468)>\narray(['1978-01-01T00:00:00.000000000', '1978-02-01T00:00:00.000000000',\n       '1978-03-01T00:00:00.000000000', ..., '2016-10-01T00:00:00.000000000',\n       '2016-11-01T00:00:00.000000000', '2016-12-01T00:00:00.000000000'],\n      dtype='datetime64[ns]')\nCoordinates:\n  * time     (time) datetime64[ns] 1978-01-01 1978-02-01 ... 2016-12-01\nvs.\n<xarray.IndexVariable 'time' (time: 468)>\narray(['2001-01-01T00:00:00.000000000', '2001-02-01T00:00:00.000000000',\n       '2001-03-01T00:00:00.000000000', ..., '1996-10-01T00:00:00.000000000',\n       '1996-11-01T00:00:00.000000000', '1996-12-01T00:00:00.000000000'],\n      dtype='datetime64[ns]')",
     "output_type": "error",
     "traceback": [
      "\u001B[0;31m---------------------------------------------------------------------------\u001B[0m",
      "\u001B[0;31mIndexError\u001B[0m                                Traceback (most recent call last)",
      "Cell \u001B[0;32mIn[3], line 10\u001B[0m\n\u001B[1;32m      6\u001B[0m \u001B[38;5;28;01mfrom\u001B[39;00m \u001B[38;5;21;01mLOTUS_regression\u001B[39;00m\u001B[38;5;21;01m.\u001B[39;00m\u001B[38;5;21;01mpredictors\u001B[39;00m \u001B[38;5;28;01mimport\u001B[39;00m load_data\n\u001B[1;32m      9\u001B[0m \u001B[38;5;66;03m#data = SBUV_NOAA(r'/home/runner/work/lotus-regression/lotus-regression/test_data//SBUV_NOAA/')\u001B[39;00m\n\u001B[0;32m---> 10\u001B[0m data \u001B[38;5;241m=\u001B[39m \u001B[43mSBUV_NOAA\u001B[49m\u001B[43m(\u001B[49m\u001B[38;5;124;43m'\u001B[39;49m\u001B[38;5;124;43m/home/kimberlee/Documents/lotus-regression/test_data/SBUV_NOAA/\u001B[39;49m\u001B[38;5;124;43m'\u001B[39;49m\u001B[43m)\u001B[49m\n",
      "File \u001B[0;32m~/Documents/lotus-regression/LOTUS_regression/dataset/sbuv.py:16\u001B[0m, in \u001B[0;36mSBUV_NOAA\u001B[0;34m(folder)\u001B[0m\n\u001B[1;32m     12\u001B[0m vmr_files \u001B[38;5;241m=\u001B[39m glob\u001B[38;5;241m.\u001B[39mglob(os\u001B[38;5;241m.\u001B[39mpath\u001B[38;5;241m.\u001B[39mjoin(folder, \u001B[38;5;124m'\u001B[39m\u001B[38;5;124m*_mn*_vmr.dat\u001B[39m\u001B[38;5;124m'\u001B[39m))\n\u001B[1;32m     14\u001B[0m data \u001B[38;5;241m=\u001B[39m xr\u001B[38;5;241m.\u001B[39mconcat([_parse_SBUV_NOAA(f) \u001B[38;5;28;01mfor\u001B[39;00m f \u001B[38;5;129;01min\u001B[39;00m vmr_files], dim\u001B[38;5;241m=\u001B[39m\u001B[38;5;124m'\u001B[39m\u001B[38;5;124mtime\u001B[39m\u001B[38;5;124m'\u001B[39m)\n\u001B[0;32m---> 16\u001B[0m data \u001B[38;5;241m=\u001B[39m \u001B[43mdata\u001B[49m\u001B[38;5;241;43m.\u001B[39;49m\u001B[43misel\u001B[49m\u001B[43m(\u001B[49m\u001B[43mtime\u001B[49m\u001B[38;5;241;43m=\u001B[39;49m\u001B[43mdata\u001B[49m\u001B[43m[\u001B[49m\u001B[38;5;124;43m'\u001B[39;49m\u001B[38;5;124;43mtime\u001B[39;49m\u001B[38;5;124;43m'\u001B[39;49m\u001B[43m]\u001B[49m\u001B[38;5;241;43m.\u001B[39;49m\u001B[43margsort\u001B[49m\u001B[43m(\u001B[49m\u001B[43m)\u001B[49m\u001B[43m)\u001B[49m\n\u001B[1;32m     18\u001B[0m data \u001B[38;5;241m=\u001B[39m data\u001B[38;5;241m.\u001B[39mwhere(data[\u001B[38;5;124m'\u001B[39m\u001B[38;5;124mvmr\u001B[39m\u001B[38;5;124m'\u001B[39m] \u001B[38;5;241m!=\u001B[39m \u001B[38;5;241m99\u001B[39m)\n\u001B[1;32m     20\u001B[0m \u001B[38;5;28;01mreturn\u001B[39;00m data\n",
      "File \u001B[0;32m~/.virtualenvs/lotus-regression/lib/python3.8/site-packages/xarray/core/dataset.py:2427\u001B[0m, in \u001B[0;36mDataset.isel\u001B[0;34m(self, indexers, drop, missing_dims, **indexers_kwargs)\u001B[0m\n\u001B[1;32m   2425\u001B[0m indexers \u001B[38;5;241m=\u001B[39m either_dict_or_kwargs(indexers, indexers_kwargs, \u001B[38;5;124m\"\u001B[39m\u001B[38;5;124misel\u001B[39m\u001B[38;5;124m\"\u001B[39m)\n\u001B[1;32m   2426\u001B[0m \u001B[38;5;28;01mif\u001B[39;00m \u001B[38;5;28many\u001B[39m(is_fancy_indexer(idx) \u001B[38;5;28;01mfor\u001B[39;00m idx \u001B[38;5;129;01min\u001B[39;00m indexers\u001B[38;5;241m.\u001B[39mvalues()):\n\u001B[0;32m-> 2427\u001B[0m     \u001B[38;5;28;01mreturn\u001B[39;00m \u001B[38;5;28;43mself\u001B[39;49m\u001B[38;5;241;43m.\u001B[39;49m\u001B[43m_isel_fancy\u001B[49m\u001B[43m(\u001B[49m\u001B[43mindexers\u001B[49m\u001B[43m,\u001B[49m\u001B[43m \u001B[49m\u001B[43mdrop\u001B[49m\u001B[38;5;241;43m=\u001B[39;49m\u001B[43mdrop\u001B[49m\u001B[43m,\u001B[49m\u001B[43m \u001B[49m\u001B[43mmissing_dims\u001B[49m\u001B[38;5;241;43m=\u001B[39;49m\u001B[43mmissing_dims\u001B[49m\u001B[43m)\u001B[49m\n\u001B[1;32m   2429\u001B[0m \u001B[38;5;66;03m# Much faster algorithm for when all indexers are ints, slices, one-dimensional\u001B[39;00m\n\u001B[1;32m   2430\u001B[0m \u001B[38;5;66;03m# lists, or zero or one-dimensional np.ndarray's\u001B[39;00m\n\u001B[1;32m   2431\u001B[0m indexers \u001B[38;5;241m=\u001B[39m drop_dims_from_indexers(indexers, \u001B[38;5;28mself\u001B[39m\u001B[38;5;241m.\u001B[39mdims, missing_dims)\n",
      "File \u001B[0;32m~/.virtualenvs/lotus-regression/lib/python3.8/site-packages/xarray/core/dataset.py:2498\u001B[0m, in \u001B[0;36mDataset._isel_fancy\u001B[0;34m(self, indexers, drop, missing_dims)\u001B[0m\n\u001B[1;32m   2495\u001B[0m selected \u001B[38;5;241m=\u001B[39m \u001B[38;5;28mself\u001B[39m\u001B[38;5;241m.\u001B[39m_replace_with_new_dims(variables, coord_names, indexes)\n\u001B[1;32m   2497\u001B[0m \u001B[38;5;66;03m# Extract coordinates from indexers\u001B[39;00m\n\u001B[0;32m-> 2498\u001B[0m coord_vars, new_indexes \u001B[38;5;241m=\u001B[39m \u001B[43mselected\u001B[49m\u001B[38;5;241;43m.\u001B[39;49m\u001B[43m_get_indexers_coords_and_indexes\u001B[49m\u001B[43m(\u001B[49m\u001B[43mindexers\u001B[49m\u001B[43m)\u001B[49m\n\u001B[1;32m   2499\u001B[0m variables\u001B[38;5;241m.\u001B[39mupdate(coord_vars)\n\u001B[1;32m   2500\u001B[0m indexes\u001B[38;5;241m.\u001B[39mupdate(new_indexes)\n",
      "File \u001B[0;32m~/.virtualenvs/lotus-regression/lib/python3.8/site-packages/xarray/core/dataset.py:2363\u001B[0m, in \u001B[0;36mDataset._get_indexers_coords_and_indexes\u001B[0;34m(self, indexers)\u001B[0m\n\u001B[1;32m   2359\u001B[0m \u001B[38;5;66;03m# we don't need to call align() explicitly or check indexes for\u001B[39;00m\n\u001B[1;32m   2360\u001B[0m \u001B[38;5;66;03m# alignment, because merge_variables already checks for exact alignment\u001B[39;00m\n\u001B[1;32m   2361\u001B[0m \u001B[38;5;66;03m# between dimension coordinates\u001B[39;00m\n\u001B[1;32m   2362\u001B[0m coords, indexes \u001B[38;5;241m=\u001B[39m merge_coordinates_without_align(coords_list)\n\u001B[0;32m-> 2363\u001B[0m \u001B[43massert_coordinate_consistent\u001B[49m\u001B[43m(\u001B[49m\u001B[38;5;28;43mself\u001B[39;49m\u001B[43m,\u001B[49m\u001B[43m \u001B[49m\u001B[43mcoords\u001B[49m\u001B[43m)\u001B[49m\n\u001B[1;32m   2365\u001B[0m \u001B[38;5;66;03m# silently drop the conflicted variables.\u001B[39;00m\n\u001B[1;32m   2366\u001B[0m attached_coords \u001B[38;5;241m=\u001B[39m {k: v \u001B[38;5;28;01mfor\u001B[39;00m k, v \u001B[38;5;129;01min\u001B[39;00m coords\u001B[38;5;241m.\u001B[39mitems() \u001B[38;5;28;01mif\u001B[39;00m k \u001B[38;5;129;01mnot\u001B[39;00m \u001B[38;5;129;01min\u001B[39;00m \u001B[38;5;28mself\u001B[39m\u001B[38;5;241m.\u001B[39m_variables}\n",
      "File \u001B[0;32m~/.virtualenvs/lotus-regression/lib/python3.8/site-packages/xarray/core/coordinates.py:481\u001B[0m, in \u001B[0;36massert_coordinate_consistent\u001B[0;34m(obj, coords)\u001B[0m\n\u001B[1;32m    478\u001B[0m \u001B[38;5;28;01mfor\u001B[39;00m k \u001B[38;5;129;01min\u001B[39;00m obj\u001B[38;5;241m.\u001B[39mdims:\n\u001B[1;32m    479\u001B[0m     \u001B[38;5;66;03m# make sure there are no conflict in dimension coordinates\u001B[39;00m\n\u001B[1;32m    480\u001B[0m     \u001B[38;5;28;01mif\u001B[39;00m k \u001B[38;5;129;01min\u001B[39;00m coords \u001B[38;5;129;01mand\u001B[39;00m k \u001B[38;5;129;01min\u001B[39;00m obj\u001B[38;5;241m.\u001B[39mcoords \u001B[38;5;129;01mand\u001B[39;00m \u001B[38;5;129;01mnot\u001B[39;00m coords[k]\u001B[38;5;241m.\u001B[39mequals(obj[k]\u001B[38;5;241m.\u001B[39mvariable):\n\u001B[0;32m--> 481\u001B[0m         \u001B[38;5;28;01mraise\u001B[39;00m \u001B[38;5;167;01mIndexError\u001B[39;00m(\n\u001B[1;32m    482\u001B[0m             \u001B[38;5;124mf\u001B[39m\u001B[38;5;124m\"\u001B[39m\u001B[38;5;124mdimension coordinate \u001B[39m\u001B[38;5;132;01m{\u001B[39;00mk\u001B[38;5;132;01m!r}\u001B[39;00m\u001B[38;5;124m conflicts between \u001B[39m\u001B[38;5;124m\"\u001B[39m\n\u001B[1;32m    483\u001B[0m             \u001B[38;5;124mf\u001B[39m\u001B[38;5;124m\"\u001B[39m\u001B[38;5;124mindexed and indexing objects:\u001B[39m\u001B[38;5;130;01m\\n\u001B[39;00m\u001B[38;5;132;01m{\u001B[39;00mobj[k]\u001B[38;5;132;01m}\u001B[39;00m\u001B[38;5;130;01m\\n\u001B[39;00m\u001B[38;5;124mvs.\u001B[39m\u001B[38;5;130;01m\\n\u001B[39;00m\u001B[38;5;132;01m{\u001B[39;00mcoords[k]\u001B[38;5;132;01m}\u001B[39;00m\u001B[38;5;124m\"\u001B[39m\n\u001B[1;32m    484\u001B[0m         )\n",
      "\u001B[0;31mIndexError\u001B[0m: dimension coordinate 'time' conflicts between indexed and indexing objects:\n<xarray.DataArray 'time' (time: 468)>\narray(['1978-01-01T00:00:00.000000000', '1978-02-01T00:00:00.000000000',\n       '1978-03-01T00:00:00.000000000', ..., '2016-10-01T00:00:00.000000000',\n       '2016-11-01T00:00:00.000000000', '2016-12-01T00:00:00.000000000'],\n      dtype='datetime64[ns]')\nCoordinates:\n  * time     (time) datetime64[ns] 1978-01-01 1978-02-01 ... 2016-12-01\nvs.\n<xarray.IndexVariable 'time' (time: 468)>\narray(['2001-01-01T00:00:00.000000000', '2001-02-01T00:00:00.000000000',\n       '2001-03-01T00:00:00.000000000', ..., '1996-10-01T00:00:00.000000000',\n       '1996-11-01T00:00:00.000000000', '1996-12-01T00:00:00.000000000'],\n      dtype='datetime64[ns]')"
     ]
    }
   ],
   "source": [
    "from LOTUS_regression.dataset.sbuv import SBUV_NOAA\n",
    "import xarray as xr\n",
    "import numpy as np\n",
    "from LOTUS_regression.regression import regress_all_bins\n",
    "from LOTUS_regression.predictors.seasonal import add_seasonal_components\n",
    "from LOTUS_regression.predictors import load_data\n",
    "\n",
    "\n",
    "#data = SBUV_NOAA(r'/home/runner/work/lotus-regression/lotus-regression/test_data//SBUV_NOAA/')\n",
    "data = SBUV_NOAA('/home/kimberlee/Documents/lotus-regression/test_data/SBUV_NOAA/')"
   ]
  },
  {
   "cell_type": "code",
   "execution_count": null,
   "metadata": {
    "collapsed": true
   },
   "outputs": [],
   "source": [
    "data = data.loc[dict(mean_latitude=slice(-60, 60))]\n",
    "\n",
    "data = data.where(data.time < np.datetime64('2013'), drop=True)\n",
    "\n",
    "print(data)"
   ]
  },
  {
   "cell_type": "code",
   "execution_count": null,
   "metadata": {
    "collapsed": true
   },
   "outputs": [],
   "source": [
    "predictors = load_data('pred_baseline_pwlt.csv')\n",
    "\n",
    "print(predictors.columns)"
   ]
  },
  {
   "cell_type": "code",
   "execution_count": null,
   "metadata": {
    "collapsed": true
   },
   "outputs": [],
   "source": [
    "predictors = add_seasonal_components(predictors, {'constant': 4, 'linear_pre': 2, 'linear_post': 2, 'qboA': 2, 'qboB': 2})\n",
    "\n",
    "print(predictors[:5])"
   ]
  },
  {
   "cell_type": "code",
   "execution_count": null,
   "metadata": {
    "collapsed": true
   },
   "outputs": [],
   "source": [
    "results = regress_all_bins(predictors, data['vmr'], tolerance=0.1, debug=True)\n",
    "\n",
    "# Convert to ~ percent\n",
    "results /= data['vmr'].mean(dim='time')\n",
    "results *= 100\n",
    "\n",
    "print(results)"
   ]
  },
  {
   "cell_type": "code",
   "execution_count": null,
   "metadata": {
    "collapsed": true
   },
   "outputs": [],
   "source": [
    "import LOTUS_regression.plotting.trends as trends\n",
    "trends.pre_post_with_confidence(results, x='mean_latitude', y='pressure', ylim=(100, 0.5), log_y=True, figsize=(16, 6),\n",
    "                                x_label='Latitude [$^\\circ$]', y_label='Pressure [hPa]', pre_title='Pre 1997',\n",
    "                                post_title='Post 1997')"
   ]
  }
 ],
 "metadata": {
  "celltoolbar": "Edit Metadata",
  "kernelspec": {
   "display_name": "Python 3",
   "language": "python",
   "name": "python3"
  },
  "language_info": {
   "codemirror_mode": {
    "name": "ipython",
    "version": 3
   },
   "file_extension": ".py",
   "mimetype": "text/x-python",
   "name": "python",
   "nbconvert_exporter": "python",
   "pygments_lexer": "ipython3",
   "version": "3.6.1"
  }
 },
 "nbformat": 4,
 "nbformat_minor": 2
}
