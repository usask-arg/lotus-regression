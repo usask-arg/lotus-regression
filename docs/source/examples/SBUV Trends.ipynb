{
 "cells": [
  {
   "cell_type": "code",
   "execution_count": null,
   "metadata": {
    "collapsed": true,
    "nbsphinx": "hidden"
   },
   "outputs": [],
   "source": [
    "from __future__ import annotations\n",
    "\n",
    "%matplotlib inline\n",
    "import warnings\n",
    "\n",
    "warnings.filterwarnings('ignore')"
   ]
  },
  {
   "cell_type": "markdown",
   "metadata": {},
   "source": [
    "# Trends with the SBUV NOAA Dataset\n",
    "Here we calculate trends using the GOZCARDS dataset by regressing to the VMR monthly zonal means using seasonal terms in our predictors."
   ]
  },
  {
   "cell_type": "code",
   "execution_count": null,
   "metadata": {
    "collapsed": true
   },
   "outputs": [],
   "source": [
    "import numpy as np\n",
    "import xarray as xr\n",
    "\n",
    "from LOTUS_regression.dataset.sbuv import SBUV_NOAA\n",
    "from LOTUS_regression.predictors import load_data\n",
    "from LOTUS_regression.predictors.seasonal import add_seasonal_components\n",
    "from LOTUS_regression.regression import regress_all_bins\n",
    "\n",
    "#data = SBUV_NOAA(r'/home/runner/work/lotus-regression/lotus-regression/test_data//SBUV_NOAA/')\n",
    "data = SBUV_NOAA('/home/kimberlee/Documents/lotus-regression/test_data/SBUV_NOAA/')"
   ]
  },
  {
   "cell_type": "code",
   "execution_count": null,
   "metadata": {
    "collapsed": true
   },
   "outputs": [],
   "source": [
    "data = data.loc[dict(mean_latitude=slice(-60, 60))]\n",
    "\n",
    "data = data.where(data.time < np.datetime64('2013'), drop=True)\n",
    "\n",
    "print(data)"
   ]
  },
  {
   "cell_type": "code",
   "execution_count": null,
   "metadata": {
    "collapsed": true
   },
   "outputs": [],
   "source": [
    "predictors = load_data('pred_baseline_pwlt.csv')\n",
    "\n",
    "print(predictors.columns)"
   ]
  },
  {
   "cell_type": "code",
   "execution_count": null,
   "metadata": {
    "collapsed": true
   },
   "outputs": [],
   "source": [
    "predictors = add_seasonal_components(predictors, {'constant': 4, 'linear_pre': 2, 'linear_post': 2, 'qboA': 2, 'qboB': 2})\n",
    "\n",
    "print(predictors[:5])"
   ]
  },
  {
   "cell_type": "code",
   "execution_count": null,
   "metadata": {
    "collapsed": true
   },
   "outputs": [],
   "source": [
    "results = regress_all_bins(predictors, data['vmr'], tolerance=0.1, debug=True)\n",
    "\n",
    "# Convert to ~ percent\n",
    "results /= data['vmr'].mean(dim='time')\n",
    "results *= 100\n",
    "\n",
    "print(results)"
   ]
  },
  {
   "cell_type": "code",
   "execution_count": null,
   "metadata": {
    "collapsed": true
   },
   "outputs": [],
   "source": [
    "import LOTUS_regression.plotting.trends as trends\n",
    "\n",
    "trends.pre_post_with_confidence(results, x='mean_latitude', y='pressure', ylim=(100, 0.5), log_y=True, figsize=(16, 6),\n",
    "                                x_label=r'Latitude [$^\\circ$]', y_label='Pressure [hPa]', pre_title='Pre 1997',\n",
    "                                post_title='Post 1997')"
   ]
  }
 ],
 "metadata": {
  "celltoolbar": "Edit Metadata",
  "kernelspec": {
   "display_name": "Python 3",
   "language": "python",
   "name": "python3"
  },
  "language_info": {
   "codemirror_mode": {
    "name": "ipython",
    "version": 3
   },
   "file_extension": ".py",
   "mimetype": "text/x-python",
   "name": "python",
   "nbconvert_exporter": "python",
   "pygments_lexer": "ipython3",
   "version": "3.6.1"
  }
 },
 "nbformat": 4,
 "nbformat_minor": 2
}
