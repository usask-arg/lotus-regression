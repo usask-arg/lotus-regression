{
 "cells": [
  {
   "cell_type": "code",
   "execution_count": 1,
   "metadata": {
    "collapsed": true,
    "execution": {
     "iopub.execute_input": "2024-06-13T20:47:23.060390Z",
     "iopub.status.busy": "2024-06-13T20:47:23.059889Z",
     "iopub.status.idle": "2024-06-13T20:47:23.392555Z",
     "shell.execute_reply": "2024-06-13T20:47:23.391956Z"
    },
    "nbsphinx": "hidden"
   },
   "outputs": [],
   "source": [
    "%matplotlib inline\n",
    "import warnings\n",
    "warnings.filterwarnings('ignore')"
   ]
  },
  {
   "cell_type": "markdown",
   "metadata": {},
   "source": [
    "# Trends with the SBUV NOAA Dataset\n",
    "Here we calculate trends using the GOZCARDS dataset by regressing to the VMR monthly zonal means using seasonal terms in our predictors."
   ]
  },
  {
   "cell_type": "code",
   "execution_count": 2,
   "metadata": {
    "collapsed": true,
    "execution": {
     "iopub.execute_input": "2024-06-13T20:47:23.395286Z",
     "iopub.status.busy": "2024-06-13T20:47:23.394933Z",
     "iopub.status.idle": "2024-06-13T20:47:24.719864Z",
     "shell.execute_reply": "2024-06-13T20:47:24.719168Z"
    }
   },
   "outputs": [
    {
     "ename": "TypeError",
     "evalue": "Path.glob() missing 1 required positional argument: 'pattern'",
     "output_type": "error",
     "traceback": [
      "\u001b[0;31m---------------------------------------------------------------------------\u001b[0m",
      "\u001b[0;31mTypeError\u001b[0m                                 Traceback (most recent call last)",
      "Cell \u001b[0;32mIn[2], line 10\u001b[0m\n\u001b[1;32m      6\u001b[0m \u001b[38;5;28;01mfrom\u001b[39;00m \u001b[38;5;21;01mLOTUS_regression\u001b[39;00m\u001b[38;5;21;01m.\u001b[39;00m\u001b[38;5;21;01mpredictors\u001b[39;00m \u001b[38;5;28;01mimport\u001b[39;00m load_data\n\u001b[1;32m      9\u001b[0m \u001b[38;5;66;03m#data = SBUV_NOAA(r'/home/runner/work/lotus-regression/lotus-regression/test_data//SBUV_NOAA/')\u001b[39;00m\n\u001b[0;32m---> 10\u001b[0m data \u001b[38;5;241m=\u001b[39m \u001b[43mSBUV_NOAA\u001b[49m\u001b[43m(\u001b[49m\u001b[38;5;124;43m'\u001b[39;49m\u001b[38;5;124;43m/home/kimberlee/Documents/lotus-regression/test_data/SBUV_NOAA/\u001b[39;49m\u001b[38;5;124;43m'\u001b[39;49m\u001b[43m)\u001b[49m\n",
      "File \u001b[0;32m/usr/share/miniconda/envs/doc_env/lib/python3.10/site-packages/LOTUS_regression/dataset/sbuv.py:14\u001b[0m, in \u001b[0;36mSBUV_NOAA\u001b[0;34m(folder)\u001b[0m\n\u001b[1;32m     13\u001b[0m \u001b[38;5;28;01mdef\u001b[39;00m \u001b[38;5;21mSBUV_NOAA\u001b[39m(folder):\n\u001b[0;32m---> 14\u001b[0m     vmr_files \u001b[38;5;241m=\u001b[39m \u001b[43mPath\u001b[49m\u001b[38;5;241;43m.\u001b[39;49m\u001b[43mglob\u001b[49m\u001b[43m(\u001b[49m\u001b[43mPath\u001b[49m\u001b[43m(\u001b[49m\u001b[43mfolder\u001b[49m\u001b[43m)\u001b[49m\u001b[43m \u001b[49m\u001b[38;5;241;43m/\u001b[39;49m\u001b[43m \u001b[49m\u001b[38;5;124;43m\"\u001b[39;49m\u001b[38;5;124;43m*_mn*_vmr.dat\u001b[39;49m\u001b[38;5;124;43m\"\u001b[39;49m\u001b[43m)\u001b[49m\n\u001b[1;32m     16\u001b[0m     data \u001b[38;5;241m=\u001b[39m xr\u001b[38;5;241m.\u001b[39mconcat([_parse_SBUV_NOAA(f) \u001b[38;5;28;01mfor\u001b[39;00m f \u001b[38;5;129;01min\u001b[39;00m vmr_files], dim\u001b[38;5;241m=\u001b[39m\u001b[38;5;124m\"\u001b[39m\u001b[38;5;124mtime\u001b[39m\u001b[38;5;124m\"\u001b[39m)\n\u001b[1;32m     18\u001b[0m     data \u001b[38;5;241m=\u001b[39m data\u001b[38;5;241m.\u001b[39misel(time\u001b[38;5;241m=\u001b[39mdata[\u001b[38;5;124m\"\u001b[39m\u001b[38;5;124mtime\u001b[39m\u001b[38;5;124m\"\u001b[39m]\u001b[38;5;241m.\u001b[39margsort())\n",
      "\u001b[0;31mTypeError\u001b[0m: Path.glob() missing 1 required positional argument: 'pattern'"
     ]
    }
   ],
   "source": [
    "from LOTUS_regression.dataset.sbuv import SBUV_NOAA\n",
    "import xarray as xr\n",
    "import numpy as np\n",
    "from LOTUS_regression.regression import regress_all_bins\n",
    "from LOTUS_regression.predictors.seasonal import add_seasonal_components\n",
    "from LOTUS_regression.predictors import load_data\n",
    "\n",
    "\n",
    "#data = SBUV_NOAA(r'/home/runner/work/lotus-regression/lotus-regression/test_data//SBUV_NOAA/')\n",
    "data = SBUV_NOAA('/home/kimberlee/Documents/lotus-regression/test_data/SBUV_NOAA/')"
   ]
  },
  {
   "cell_type": "code",
   "execution_count": 3,
   "metadata": {
    "collapsed": true,
    "execution": {
     "iopub.execute_input": "2024-06-13T20:47:24.722648Z",
     "iopub.status.busy": "2024-06-13T20:47:24.722072Z",
     "iopub.status.idle": "2024-06-13T20:47:24.737764Z",
     "shell.execute_reply": "2024-06-13T20:47:24.737235Z"
    }
   },
   "outputs": [
    {
     "ename": "NameError",
     "evalue": "name 'data' is not defined",
     "output_type": "error",
     "traceback": [
      "\u001b[0;31m---------------------------------------------------------------------------\u001b[0m",
      "\u001b[0;31mNameError\u001b[0m                                 Traceback (most recent call last)",
      "Cell \u001b[0;32mIn[3], line 1\u001b[0m\n\u001b[0;32m----> 1\u001b[0m data \u001b[38;5;241m=\u001b[39m \u001b[43mdata\u001b[49m\u001b[38;5;241m.\u001b[39mloc[\u001b[38;5;28mdict\u001b[39m(mean_latitude\u001b[38;5;241m=\u001b[39m\u001b[38;5;28mslice\u001b[39m(\u001b[38;5;241m-\u001b[39m\u001b[38;5;241m60\u001b[39m, \u001b[38;5;241m60\u001b[39m))]\n\u001b[1;32m      3\u001b[0m data \u001b[38;5;241m=\u001b[39m data\u001b[38;5;241m.\u001b[39mwhere(data\u001b[38;5;241m.\u001b[39mtime \u001b[38;5;241m<\u001b[39m np\u001b[38;5;241m.\u001b[39mdatetime64(\u001b[38;5;124m'\u001b[39m\u001b[38;5;124m2013\u001b[39m\u001b[38;5;124m'\u001b[39m), drop\u001b[38;5;241m=\u001b[39m\u001b[38;5;28;01mTrue\u001b[39;00m)\n\u001b[1;32m      5\u001b[0m \u001b[38;5;28mprint\u001b[39m(data)\n",
      "\u001b[0;31mNameError\u001b[0m: name 'data' is not defined"
     ]
    }
   ],
   "source": [
    "data = data.loc[dict(mean_latitude=slice(-60, 60))]\n",
    "\n",
    "data = data.where(data.time < np.datetime64('2013'), drop=True)\n",
    "\n",
    "print(data)"
   ]
  },
  {
   "cell_type": "code",
   "execution_count": 4,
   "metadata": {
    "collapsed": true,
    "execution": {
     "iopub.execute_input": "2024-06-13T20:47:24.740206Z",
     "iopub.status.busy": "2024-06-13T20:47:24.739890Z",
     "iopub.status.idle": "2024-06-13T20:47:24.747894Z",
     "shell.execute_reply": "2024-06-13T20:47:24.747322Z"
    }
   },
   "outputs": [
    {
     "name": "stdout",
     "output_type": "stream",
     "text": [
      "Index(['enso', 'solar', 'qboA', 'qboB', 'aod', 'linear_pre', 'linear_post',\n",
      "       'constant'],\n",
      "      dtype='object')\n"
     ]
    }
   ],
   "source": [
    "predictors = load_data('pred_baseline_pwlt.csv')\n",
    "\n",
    "print(predictors.columns)"
   ]
  },
  {
   "cell_type": "code",
   "execution_count": 5,
   "metadata": {
    "collapsed": true,
    "execution": {
     "iopub.execute_input": "2024-06-13T20:47:24.750092Z",
     "iopub.status.busy": "2024-06-13T20:47:24.749719Z",
     "iopub.status.idle": "2024-06-13T20:47:24.772417Z",
     "shell.execute_reply": "2024-06-13T20:47:24.771790Z"
    }
   },
   "outputs": [
    {
     "name": "stdout",
     "output_type": "stream",
     "text": [
      "                enso     solar      qboA      qboB       aod  linear_pre  \\\n",
      "time                                                                       \n",
      "1979-01-01  0.534698  1.578955 -1.067789  0.952231 -0.411760   -1.800000   \n",
      "1979-02-01  0.351147  1.633527 -0.831698  0.892204 -0.412330   -1.791667   \n",
      "1979-03-01  0.004440  1.318208 -1.168007  0.628544 -0.413462   -1.783333   \n",
      "1979-04-01  0.269569  1.129935 -1.229261  0.561389 -0.416360   -1.775000   \n",
      "1979-05-01  0.330752  1.002783 -1.226434  0.052783 -0.420368   -1.766667   \n",
      "\n",
      "            linear_post  constant  qboA_sin0  qboA_cos0  ...  \\\n",
      "time                                                     ...   \n",
      "1979-01-01          0.0       1.0  -0.000000  -1.067789  ...   \n",
      "1979-02-01          0.0       1.0  -0.422799  -0.716214  ...   \n",
      "1979-03-01          0.0       1.0  -0.992164  -0.616320  ...   \n",
      "1979-04-01          0.0       1.0  -1.228947  -0.027752  ...   \n",
      "1979-05-01          0.0       1.0  -1.080099   0.580970  ...   \n",
      "\n",
      "            linear_post_sin1  linear_post_cos1  constant_sin0  constant_cos0  \\\n",
      "time                                                                           \n",
      "1979-01-01               0.0               0.0       0.000000       1.000000   \n",
      "1979-02-01               0.0               0.0       0.508356       0.861147   \n",
      "1979-03-01               0.0              -0.0       0.849450       0.527668   \n",
      "1979-04-01               0.0              -0.0       0.999745       0.022576   \n",
      "1979-05-01              -0.0              -0.0       0.880683      -0.473706   \n",
      "\n",
      "            constant_sin1  constant_cos1  constant_sin2  constant_cos2  \\\n",
      "time                                                                     \n",
      "1979-01-01       0.000000       1.000000       0.000000       1.000000   \n",
      "1979-02-01       0.875539       0.483147       0.999579      -0.029025   \n",
      "1979-03-01       0.896456      -0.443132       0.096613      -0.995322   \n",
      "1979-04-01       0.045141      -0.998981      -0.997707      -0.067683   \n",
      "1979-05-01      -0.834370      -0.551205      -0.090190       0.995925   \n",
      "\n",
      "            constant_sin3  constant_cos3  \n",
      "time                                      \n",
      "1979-01-01       0.000000       1.000000  \n",
      "1979-02-01       0.846029      -0.533137  \n",
      "1979-03-01      -0.794497      -0.607268  \n",
      "1979-04-01      -0.090190       0.995925  \n",
      "1979-05-01       0.919817      -0.392347  \n",
      "\n",
      "[5 rows x 32 columns]\n"
     ]
    }
   ],
   "source": [
    "predictors = add_seasonal_components(predictors, {'constant': 4, 'linear_pre': 2, 'linear_post': 2, 'qboA': 2, 'qboB': 2})\n",
    "\n",
    "print(predictors[:5])"
   ]
  },
  {
   "cell_type": "code",
   "execution_count": 6,
   "metadata": {
    "collapsed": true,
    "execution": {
     "iopub.execute_input": "2024-06-13T20:47:24.774769Z",
     "iopub.status.busy": "2024-06-13T20:47:24.774318Z",
     "iopub.status.idle": "2024-06-13T20:47:24.791259Z",
     "shell.execute_reply": "2024-06-13T20:47:24.790774Z"
    }
   },
   "outputs": [
    {
     "ename": "NameError",
     "evalue": "name 'data' is not defined",
     "output_type": "error",
     "traceback": [
      "\u001b[0;31m---------------------------------------------------------------------------\u001b[0m",
      "\u001b[0;31mNameError\u001b[0m                                 Traceback (most recent call last)",
      "Cell \u001b[0;32mIn[6], line 1\u001b[0m\n\u001b[0;32m----> 1\u001b[0m results \u001b[38;5;241m=\u001b[39m regress_all_bins(predictors, \u001b[43mdata\u001b[49m[\u001b[38;5;124m'\u001b[39m\u001b[38;5;124mvmr\u001b[39m\u001b[38;5;124m'\u001b[39m], tolerance\u001b[38;5;241m=\u001b[39m\u001b[38;5;241m0.1\u001b[39m, debug\u001b[38;5;241m=\u001b[39m\u001b[38;5;28;01mTrue\u001b[39;00m)\n\u001b[1;32m      3\u001b[0m \u001b[38;5;66;03m# Convert to ~ percent\u001b[39;00m\n\u001b[1;32m      4\u001b[0m results \u001b[38;5;241m/\u001b[39m\u001b[38;5;241m=\u001b[39m data[\u001b[38;5;124m'\u001b[39m\u001b[38;5;124mvmr\u001b[39m\u001b[38;5;124m'\u001b[39m]\u001b[38;5;241m.\u001b[39mmean(dim\u001b[38;5;241m=\u001b[39m\u001b[38;5;124m'\u001b[39m\u001b[38;5;124mtime\u001b[39m\u001b[38;5;124m'\u001b[39m)\n",
      "\u001b[0;31mNameError\u001b[0m: name 'data' is not defined"
     ]
    }
   ],
   "source": [
    "results = regress_all_bins(predictors, data['vmr'], tolerance=0.1, debug=True)\n",
    "\n",
    "# Convert to ~ percent\n",
    "results /= data['vmr'].mean(dim='time')\n",
    "results *= 100\n",
    "\n",
    "print(results)"
   ]
  },
  {
   "cell_type": "code",
   "execution_count": 7,
   "metadata": {
    "collapsed": true,
    "execution": {
     "iopub.execute_input": "2024-06-13T20:47:24.793545Z",
     "iopub.status.busy": "2024-06-13T20:47:24.793186Z",
     "iopub.status.idle": "2024-06-13T20:47:24.808747Z",
     "shell.execute_reply": "2024-06-13T20:47:24.808260Z"
    }
   },
   "outputs": [
    {
     "ename": "NameError",
     "evalue": "name 'results' is not defined",
     "output_type": "error",
     "traceback": [
      "\u001b[0;31m---------------------------------------------------------------------------\u001b[0m",
      "\u001b[0;31mNameError\u001b[0m                                 Traceback (most recent call last)",
      "Cell \u001b[0;32mIn[7], line 2\u001b[0m\n\u001b[1;32m      1\u001b[0m \u001b[38;5;28;01mimport\u001b[39;00m \u001b[38;5;21;01mLOTUS_regression\u001b[39;00m\u001b[38;5;21;01m.\u001b[39;00m\u001b[38;5;21;01mplotting\u001b[39;00m\u001b[38;5;21;01m.\u001b[39;00m\u001b[38;5;21;01mtrends\u001b[39;00m \u001b[38;5;28;01mas\u001b[39;00m \u001b[38;5;21;01mtrends\u001b[39;00m\n\u001b[0;32m----> 2\u001b[0m trends\u001b[38;5;241m.\u001b[39mpre_post_with_confidence(\u001b[43mresults\u001b[49m, x\u001b[38;5;241m=\u001b[39m\u001b[38;5;124m'\u001b[39m\u001b[38;5;124mmean_latitude\u001b[39m\u001b[38;5;124m'\u001b[39m, y\u001b[38;5;241m=\u001b[39m\u001b[38;5;124m'\u001b[39m\u001b[38;5;124mpressure\u001b[39m\u001b[38;5;124m'\u001b[39m, ylim\u001b[38;5;241m=\u001b[39m(\u001b[38;5;241m100\u001b[39m, \u001b[38;5;241m0.5\u001b[39m), log_y\u001b[38;5;241m=\u001b[39m\u001b[38;5;28;01mTrue\u001b[39;00m, figsize\u001b[38;5;241m=\u001b[39m(\u001b[38;5;241m16\u001b[39m, \u001b[38;5;241m6\u001b[39m),\n\u001b[1;32m      3\u001b[0m                                 x_label\u001b[38;5;241m=\u001b[39m\u001b[38;5;124m'\u001b[39m\u001b[38;5;124mLatitude [$^\u001b[39m\u001b[38;5;124m\\\u001b[39m\u001b[38;5;124mcirc$]\u001b[39m\u001b[38;5;124m'\u001b[39m, y_label\u001b[38;5;241m=\u001b[39m\u001b[38;5;124m'\u001b[39m\u001b[38;5;124mPressure [hPa]\u001b[39m\u001b[38;5;124m'\u001b[39m, pre_title\u001b[38;5;241m=\u001b[39m\u001b[38;5;124m'\u001b[39m\u001b[38;5;124mPre 1997\u001b[39m\u001b[38;5;124m'\u001b[39m,\n\u001b[1;32m      4\u001b[0m                                 post_title\u001b[38;5;241m=\u001b[39m\u001b[38;5;124m'\u001b[39m\u001b[38;5;124mPost 1997\u001b[39m\u001b[38;5;124m'\u001b[39m)\n",
      "\u001b[0;31mNameError\u001b[0m: name 'results' is not defined"
     ]
    }
   ],
   "source": [
    "import LOTUS_regression.plotting.trends as trends\n",
    "trends.pre_post_with_confidence(results, x='mean_latitude', y='pressure', ylim=(100, 0.5), log_y=True, figsize=(16, 6),\n",
    "                                x_label='Latitude [$^\\circ$]', y_label='Pressure [hPa]', pre_title='Pre 1997',\n",
    "                                post_title='Post 1997')"
   ]
  }
 ],
 "metadata": {
  "celltoolbar": "Edit Metadata",
  "kernelspec": {
   "display_name": "Python 3",
   "language": "python",
   "name": "python3"
  },
  "language_info": {
   "codemirror_mode": {
    "name": "ipython",
    "version": 3
   },
   "file_extension": ".py",
   "mimetype": "text/x-python",
   "name": "python",
   "nbconvert_exporter": "python",
   "pygments_lexer": "ipython3",
   "version": "3.10.14"
  }
 },
 "nbformat": 4,
 "nbformat_minor": 2
}
