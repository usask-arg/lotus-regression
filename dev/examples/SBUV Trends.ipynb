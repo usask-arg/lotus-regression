{
 "cells": [
  {
   "cell_type": "code",
   "execution_count": 1,
   "metadata": {
    "collapsed": true,
    "execution": {
     "iopub.execute_input": "2024-02-23T19:30:22.853277Z",
     "iopub.status.busy": "2024-02-23T19:30:22.853115Z",
     "iopub.status.idle": "2024-02-23T19:30:23.154334Z",
     "shell.execute_reply": "2024-02-23T19:30:23.153800Z"
    },
    "nbsphinx": "hidden"
   },
   "outputs": [],
   "source": [
    "%matplotlib inline\n",
    "import warnings\n",
    "warnings.filterwarnings('ignore')"
   ]
  },
  {
   "cell_type": "markdown",
   "metadata": {},
   "source": [
    "# Trends with the SBUV NOAA Dataset\n",
    "Here we calculate trends using the GOZCARDS dataset by regressing to the VMR monthly zonal means using seasonal terms in our predictors."
   ]
  },
  {
   "cell_type": "code",
   "execution_count": 2,
   "metadata": {
    "collapsed": true,
    "execution": {
     "iopub.execute_input": "2024-02-23T19:30:23.156832Z",
     "iopub.status.busy": "2024-02-23T19:30:23.156619Z",
     "iopub.status.idle": "2024-02-23T19:30:24.487015Z",
     "shell.execute_reply": "2024-02-23T19:30:24.486498Z"
    }
   },
   "outputs": [
    {
     "ename": "ValueError",
     "evalue": "must supply at least one object to concatenate",
     "output_type": "error",
     "traceback": [
      "\u001b[0;31m---------------------------------------------------------------------------\u001b[0m",
      "\u001b[0;31mStopIteration\u001b[0m                             Traceback (most recent call last)",
      "File \u001b[0;32m/usr/share/miniconda/envs/doc_env/lib/python3.10/site-packages/xarray-2024.2.0-py3.10.egg/xarray/core/concat.py:228\u001b[0m, in \u001b[0;36mconcat\u001b[0;34m(objs, dim, data_vars, coords, compat, positions, fill_value, join, combine_attrs)\u001b[0m\n\u001b[1;32m    227\u001b[0m \u001b[38;5;28;01mtry\u001b[39;00m:\n\u001b[0;32m--> 228\u001b[0m     first_obj, objs \u001b[38;5;241m=\u001b[39m \u001b[43mutils\u001b[49m\u001b[38;5;241;43m.\u001b[39;49m\u001b[43mpeek_at\u001b[49m\u001b[43m(\u001b[49m\u001b[43mobjs\u001b[49m\u001b[43m)\u001b[49m\n\u001b[1;32m    229\u001b[0m \u001b[38;5;28;01mexcept\u001b[39;00m \u001b[38;5;167;01mStopIteration\u001b[39;00m:\n",
      "File \u001b[0;32m/usr/share/miniconda/envs/doc_env/lib/python3.10/site-packages/xarray-2024.2.0-py3.10.egg/xarray/core/utils.py:205\u001b[0m, in \u001b[0;36mpeek_at\u001b[0;34m(iterable)\u001b[0m\n\u001b[1;32m    204\u001b[0m gen \u001b[38;5;241m=\u001b[39m \u001b[38;5;28miter\u001b[39m(iterable)\n\u001b[0;32m--> 205\u001b[0m peek \u001b[38;5;241m=\u001b[39m \u001b[38;5;28;43mnext\u001b[39;49m\u001b[43m(\u001b[49m\u001b[43mgen\u001b[49m\u001b[43m)\u001b[49m\n\u001b[1;32m    206\u001b[0m \u001b[38;5;28;01mreturn\u001b[39;00m peek, itertools\u001b[38;5;241m.\u001b[39mchain([peek], gen)\n",
      "\u001b[0;31mStopIteration\u001b[0m: ",
      "\nDuring handling of the above exception, another exception occurred:\n",
      "\u001b[0;31mValueError\u001b[0m                                Traceback (most recent call last)",
      "Cell \u001b[0;32mIn[2], line 10\u001b[0m\n\u001b[1;32m      6\u001b[0m \u001b[38;5;28;01mfrom\u001b[39;00m \u001b[38;5;21;01mLOTUS_regression\u001b[39;00m\u001b[38;5;21;01m.\u001b[39;00m\u001b[38;5;21;01mpredictors\u001b[39;00m \u001b[38;5;28;01mimport\u001b[39;00m load_data\n\u001b[1;32m      9\u001b[0m \u001b[38;5;66;03m#data = SBUV_NOAA(r'/home/runner/work/lotus-regression/lotus-regression/test_data//SBUV_NOAA/')\u001b[39;00m\n\u001b[0;32m---> 10\u001b[0m data \u001b[38;5;241m=\u001b[39m \u001b[43mSBUV_NOAA\u001b[49m\u001b[43m(\u001b[49m\u001b[38;5;124;43m'\u001b[39;49m\u001b[38;5;124;43m/home/kimberlee/Documents/lotus-regression/test_data/SBUV_NOAA/\u001b[39;49m\u001b[38;5;124;43m'\u001b[39;49m\u001b[43m)\u001b[49m\n",
      "File \u001b[0;32m/usr/share/miniconda/envs/doc_env/lib/python3.10/site-packages/LOTUS_regression-0+untagged.1.g13d5c5e-py3.10.egg/LOTUS_regression/dataset/sbuv.py:14\u001b[0m, in \u001b[0;36mSBUV_NOAA\u001b[0;34m(folder)\u001b[0m\n\u001b[1;32m     11\u001b[0m \u001b[38;5;28;01mdef\u001b[39;00m \u001b[38;5;21mSBUV_NOAA\u001b[39m(folder):\n\u001b[1;32m     12\u001b[0m     vmr_files \u001b[38;5;241m=\u001b[39m glob\u001b[38;5;241m.\u001b[39mglob(os\u001b[38;5;241m.\u001b[39mpath\u001b[38;5;241m.\u001b[39mjoin(folder, \u001b[38;5;124m'\u001b[39m\u001b[38;5;124m*_mn*_vmr.dat\u001b[39m\u001b[38;5;124m'\u001b[39m))\n\u001b[0;32m---> 14\u001b[0m     data \u001b[38;5;241m=\u001b[39m \u001b[43mxr\u001b[49m\u001b[38;5;241;43m.\u001b[39;49m\u001b[43mconcat\u001b[49m\u001b[43m(\u001b[49m\u001b[43m[\u001b[49m\u001b[43m_parse_SBUV_NOAA\u001b[49m\u001b[43m(\u001b[49m\u001b[43mf\u001b[49m\u001b[43m)\u001b[49m\u001b[43m \u001b[49m\u001b[38;5;28;43;01mfor\u001b[39;49;00m\u001b[43m \u001b[49m\u001b[43mf\u001b[49m\u001b[43m \u001b[49m\u001b[38;5;129;43;01min\u001b[39;49;00m\u001b[43m \u001b[49m\u001b[43mvmr_files\u001b[49m\u001b[43m]\u001b[49m\u001b[43m,\u001b[49m\u001b[43m \u001b[49m\u001b[43mdim\u001b[49m\u001b[38;5;241;43m=\u001b[39;49m\u001b[38;5;124;43m'\u001b[39;49m\u001b[38;5;124;43mtime\u001b[39;49m\u001b[38;5;124;43m'\u001b[39;49m\u001b[43m)\u001b[49m\n\u001b[1;32m     16\u001b[0m     data \u001b[38;5;241m=\u001b[39m data\u001b[38;5;241m.\u001b[39misel(time\u001b[38;5;241m=\u001b[39mdata[\u001b[38;5;124m'\u001b[39m\u001b[38;5;124mtime\u001b[39m\u001b[38;5;124m'\u001b[39m]\u001b[38;5;241m.\u001b[39margsort())\n\u001b[1;32m     18\u001b[0m     data \u001b[38;5;241m=\u001b[39m data\u001b[38;5;241m.\u001b[39mwhere(data[\u001b[38;5;124m'\u001b[39m\u001b[38;5;124mvmr\u001b[39m\u001b[38;5;124m'\u001b[39m] \u001b[38;5;241m!=\u001b[39m \u001b[38;5;241m99\u001b[39m)\n",
      "File \u001b[0;32m/usr/share/miniconda/envs/doc_env/lib/python3.10/site-packages/xarray-2024.2.0-py3.10.egg/xarray/core/concat.py:230\u001b[0m, in \u001b[0;36mconcat\u001b[0;34m(objs, dim, data_vars, coords, compat, positions, fill_value, join, combine_attrs)\u001b[0m\n\u001b[1;32m    228\u001b[0m     first_obj, objs \u001b[38;5;241m=\u001b[39m utils\u001b[38;5;241m.\u001b[39mpeek_at(objs)\n\u001b[1;32m    229\u001b[0m \u001b[38;5;28;01mexcept\u001b[39;00m \u001b[38;5;167;01mStopIteration\u001b[39;00m:\n\u001b[0;32m--> 230\u001b[0m     \u001b[38;5;28;01mraise\u001b[39;00m \u001b[38;5;167;01mValueError\u001b[39;00m(\u001b[38;5;124m\"\u001b[39m\u001b[38;5;124mmust supply at least one object to concatenate\u001b[39m\u001b[38;5;124m\"\u001b[39m)\n\u001b[1;32m    232\u001b[0m \u001b[38;5;28;01mif\u001b[39;00m compat \u001b[38;5;129;01mnot\u001b[39;00m \u001b[38;5;129;01min\u001b[39;00m _VALID_COMPAT:\n\u001b[1;32m    233\u001b[0m     \u001b[38;5;28;01mraise\u001b[39;00m \u001b[38;5;167;01mValueError\u001b[39;00m(\n\u001b[1;32m    234\u001b[0m         \u001b[38;5;124mf\u001b[39m\u001b[38;5;124m\"\u001b[39m\u001b[38;5;124mcompat=\u001b[39m\u001b[38;5;132;01m{\u001b[39;00mcompat\u001b[38;5;132;01m!r}\u001b[39;00m\u001b[38;5;124m invalid: must be \u001b[39m\u001b[38;5;124m'\u001b[39m\u001b[38;5;124mbroadcast_equals\u001b[39m\u001b[38;5;124m'\u001b[39m\u001b[38;5;124m, \u001b[39m\u001b[38;5;124m'\u001b[39m\u001b[38;5;124mequals\u001b[39m\u001b[38;5;124m'\u001b[39m\u001b[38;5;124m, \u001b[39m\u001b[38;5;124m'\u001b[39m\u001b[38;5;124midentical\u001b[39m\u001b[38;5;124m'\u001b[39m\u001b[38;5;124m, \u001b[39m\u001b[38;5;124m'\u001b[39m\u001b[38;5;124mno_conflicts\u001b[39m\u001b[38;5;124m'\u001b[39m\u001b[38;5;124m or \u001b[39m\u001b[38;5;124m'\u001b[39m\u001b[38;5;124moverride\u001b[39m\u001b[38;5;124m'\u001b[39m\u001b[38;5;124m\"\u001b[39m\n\u001b[1;32m    235\u001b[0m     )\n",
      "\u001b[0;31mValueError\u001b[0m: must supply at least one object to concatenate"
     ]
    }
   ],
   "source": [
    "from LOTUS_regression.dataset.sbuv import SBUV_NOAA\n",
    "import xarray as xr\n",
    "import numpy as np\n",
    "from LOTUS_regression.regression import regress_all_bins\n",
    "from LOTUS_regression.predictors.seasonal import add_seasonal_components\n",
    "from LOTUS_regression.predictors import load_data\n",
    "\n",
    "\n",
    "#data = SBUV_NOAA(r'/home/runner/work/lotus-regression/lotus-regression/test_data//SBUV_NOAA/')\n",
    "data = SBUV_NOAA('/home/kimberlee/Documents/lotus-regression/test_data/SBUV_NOAA/')"
   ]
  },
  {
   "cell_type": "code",
   "execution_count": 3,
   "metadata": {
    "collapsed": true,
    "execution": {
     "iopub.execute_input": "2024-02-23T19:30:24.489166Z",
     "iopub.status.busy": "2024-02-23T19:30:24.488996Z",
     "iopub.status.idle": "2024-02-23T19:30:24.503240Z",
     "shell.execute_reply": "2024-02-23T19:30:24.502805Z"
    }
   },
   "outputs": [
    {
     "ename": "NameError",
     "evalue": "name 'data' is not defined",
     "output_type": "error",
     "traceback": [
      "\u001b[0;31m---------------------------------------------------------------------------\u001b[0m",
      "\u001b[0;31mNameError\u001b[0m                                 Traceback (most recent call last)",
      "Cell \u001b[0;32mIn[3], line 1\u001b[0m\n\u001b[0;32m----> 1\u001b[0m data \u001b[38;5;241m=\u001b[39m \u001b[43mdata\u001b[49m\u001b[38;5;241m.\u001b[39mloc[\u001b[38;5;28mdict\u001b[39m(mean_latitude\u001b[38;5;241m=\u001b[39m\u001b[38;5;28mslice\u001b[39m(\u001b[38;5;241m-\u001b[39m\u001b[38;5;241m60\u001b[39m, \u001b[38;5;241m60\u001b[39m))]\n\u001b[1;32m      3\u001b[0m data \u001b[38;5;241m=\u001b[39m data\u001b[38;5;241m.\u001b[39mwhere(data\u001b[38;5;241m.\u001b[39mtime \u001b[38;5;241m<\u001b[39m np\u001b[38;5;241m.\u001b[39mdatetime64(\u001b[38;5;124m'\u001b[39m\u001b[38;5;124m2013\u001b[39m\u001b[38;5;124m'\u001b[39m), drop\u001b[38;5;241m=\u001b[39m\u001b[38;5;28;01mTrue\u001b[39;00m)\n\u001b[1;32m      5\u001b[0m \u001b[38;5;28mprint\u001b[39m(data)\n",
      "\u001b[0;31mNameError\u001b[0m: name 'data' is not defined"
     ]
    }
   ],
   "source": [
    "data = data.loc[dict(mean_latitude=slice(-60, 60))]\n",
    "\n",
    "data = data.where(data.time < np.datetime64('2013'), drop=True)\n",
    "\n",
    "print(data)"
   ]
  },
  {
   "cell_type": "code",
   "execution_count": 4,
   "metadata": {
    "collapsed": true,
    "execution": {
     "iopub.execute_input": "2024-02-23T19:30:24.505358Z",
     "iopub.status.busy": "2024-02-23T19:30:24.504894Z",
     "iopub.status.idle": "2024-02-23T19:30:24.512804Z",
     "shell.execute_reply": "2024-02-23T19:30:24.512272Z"
    }
   },
   "outputs": [
    {
     "name": "stdout",
     "output_type": "stream",
     "text": [
      "Index(['enso', 'solar', 'qboA', 'qboB', 'aod', 'linear_pre', 'linear_post',\n",
      "       'constant'],\n",
      "      dtype='object')\n"
     ]
    }
   ],
   "source": [
    "predictors = load_data('pred_baseline_pwlt.csv')\n",
    "\n",
    "print(predictors.columns)"
   ]
  },
  {
   "cell_type": "code",
   "execution_count": 5,
   "metadata": {
    "collapsed": true,
    "execution": {
     "iopub.execute_input": "2024-02-23T19:30:24.514744Z",
     "iopub.status.busy": "2024-02-23T19:30:24.514422Z",
     "iopub.status.idle": "2024-02-23T19:30:24.536336Z",
     "shell.execute_reply": "2024-02-23T19:30:24.535892Z"
    }
   },
   "outputs": [
    {
     "name": "stdout",
     "output_type": "stream",
     "text": [
      "                enso     solar      qboA      qboB       aod  linear_pre  \\\n",
      "time                                                                       \n",
      "1979-01-01  0.545353  1.581821 -1.071557 -0.948523 -0.410788   -1.800000   \n",
      "1979-02-01  0.342144  1.636272 -0.835098 -0.887104 -0.411355   -1.791667   \n",
      "1979-03-01  0.027170  1.321658 -1.171239 -0.621723 -0.412482   -1.783333   \n",
      "1979-04-01  0.331984  1.133807 -1.232609 -0.554725 -0.415366   -1.775000   \n",
      "1979-05-01  0.423428  1.006939 -1.229580 -0.043544 -0.419356   -1.766667   \n",
      "\n",
      "            linear_post  constant  qboA_sin0  qboA_cos0  ...  \\\n",
      "time                                                     ...   \n",
      "1979-01-01          0.0       1.0  -0.000000  -1.071557  ...   \n",
      "1979-02-01          0.0       1.0  -0.424528  -0.719142  ...   \n",
      "1979-03-01          0.0       1.0  -0.994909  -0.618026  ...   \n",
      "1979-04-01          0.0       1.0  -1.232295  -0.027828  ...   \n",
      "1979-05-01          0.0       1.0  -1.082870   0.582460  ...   \n",
      "\n",
      "            linear_post_sin1  linear_post_cos1  constant_sin0  constant_cos0  \\\n",
      "time                                                                           \n",
      "1979-01-01               0.0               0.0       0.000000       1.000000   \n",
      "1979-02-01               0.0               0.0       0.508356       0.861147   \n",
      "1979-03-01               0.0              -0.0       0.849450       0.527668   \n",
      "1979-04-01               0.0              -0.0       0.999745       0.022576   \n",
      "1979-05-01              -0.0              -0.0       0.880683      -0.473706   \n",
      "\n",
      "            constant_sin1  constant_cos1  constant_sin2  constant_cos2  \\\n",
      "time                                                                     \n",
      "1979-01-01       0.000000       1.000000       0.000000       1.000000   \n",
      "1979-02-01       0.875539       0.483147       0.999579      -0.029025   \n",
      "1979-03-01       0.896456      -0.443132       0.096613      -0.995322   \n",
      "1979-04-01       0.045141      -0.998981      -0.997707      -0.067683   \n",
      "1979-05-01      -0.834370      -0.551205      -0.090190       0.995925   \n",
      "\n",
      "            constant_sin3  constant_cos3  \n",
      "time                                      \n",
      "1979-01-01       0.000000       1.000000  \n",
      "1979-02-01       0.846029      -0.533137  \n",
      "1979-03-01      -0.794497      -0.607268  \n",
      "1979-04-01      -0.090190       0.995925  \n",
      "1979-05-01       0.919817      -0.392347  \n",
      "\n",
      "[5 rows x 32 columns]\n"
     ]
    }
   ],
   "source": [
    "predictors = add_seasonal_components(predictors, {'constant': 4, 'linear_pre': 2, 'linear_post': 2, 'qboA': 2, 'qboB': 2})\n",
    "\n",
    "print(predictors[:5])"
   ]
  },
  {
   "cell_type": "code",
   "execution_count": 6,
   "metadata": {
    "collapsed": true,
    "execution": {
     "iopub.execute_input": "2024-02-23T19:30:24.538126Z",
     "iopub.status.busy": "2024-02-23T19:30:24.537973Z",
     "iopub.status.idle": "2024-02-23T19:30:24.551961Z",
     "shell.execute_reply": "2024-02-23T19:30:24.551500Z"
    }
   },
   "outputs": [
    {
     "ename": "NameError",
     "evalue": "name 'data' is not defined",
     "output_type": "error",
     "traceback": [
      "\u001b[0;31m---------------------------------------------------------------------------\u001b[0m",
      "\u001b[0;31mNameError\u001b[0m                                 Traceback (most recent call last)",
      "Cell \u001b[0;32mIn[6], line 1\u001b[0m\n\u001b[0;32m----> 1\u001b[0m results \u001b[38;5;241m=\u001b[39m regress_all_bins(predictors, \u001b[43mdata\u001b[49m[\u001b[38;5;124m'\u001b[39m\u001b[38;5;124mvmr\u001b[39m\u001b[38;5;124m'\u001b[39m], tolerance\u001b[38;5;241m=\u001b[39m\u001b[38;5;241m0.1\u001b[39m, debug\u001b[38;5;241m=\u001b[39m\u001b[38;5;28;01mTrue\u001b[39;00m)\n\u001b[1;32m      3\u001b[0m \u001b[38;5;66;03m# Convert to ~ percent\u001b[39;00m\n\u001b[1;32m      4\u001b[0m results \u001b[38;5;241m/\u001b[39m\u001b[38;5;241m=\u001b[39m data[\u001b[38;5;124m'\u001b[39m\u001b[38;5;124mvmr\u001b[39m\u001b[38;5;124m'\u001b[39m]\u001b[38;5;241m.\u001b[39mmean(dim\u001b[38;5;241m=\u001b[39m\u001b[38;5;124m'\u001b[39m\u001b[38;5;124mtime\u001b[39m\u001b[38;5;124m'\u001b[39m)\n",
      "\u001b[0;31mNameError\u001b[0m: name 'data' is not defined"
     ]
    }
   ],
   "source": [
    "results = regress_all_bins(predictors, data['vmr'], tolerance=0.1, debug=True)\n",
    "\n",
    "# Convert to ~ percent\n",
    "results /= data['vmr'].mean(dim='time')\n",
    "results *= 100\n",
    "\n",
    "print(results)"
   ]
  },
  {
   "cell_type": "code",
   "execution_count": 7,
   "metadata": {
    "collapsed": true,
    "execution": {
     "iopub.execute_input": "2024-02-23T19:30:24.553955Z",
     "iopub.status.busy": "2024-02-23T19:30:24.553632Z",
     "iopub.status.idle": "2024-02-23T19:30:24.567956Z",
     "shell.execute_reply": "2024-02-23T19:30:24.567399Z"
    }
   },
   "outputs": [
    {
     "ename": "NameError",
     "evalue": "name 'results' is not defined",
     "output_type": "error",
     "traceback": [
      "\u001b[0;31m---------------------------------------------------------------------------\u001b[0m",
      "\u001b[0;31mNameError\u001b[0m                                 Traceback (most recent call last)",
      "Cell \u001b[0;32mIn[7], line 2\u001b[0m\n\u001b[1;32m      1\u001b[0m \u001b[38;5;28;01mimport\u001b[39;00m \u001b[38;5;21;01mLOTUS_regression\u001b[39;00m\u001b[38;5;21;01m.\u001b[39;00m\u001b[38;5;21;01mplotting\u001b[39;00m\u001b[38;5;21;01m.\u001b[39;00m\u001b[38;5;21;01mtrends\u001b[39;00m \u001b[38;5;28;01mas\u001b[39;00m \u001b[38;5;21;01mtrends\u001b[39;00m\n\u001b[0;32m----> 2\u001b[0m trends\u001b[38;5;241m.\u001b[39mpre_post_with_confidence(\u001b[43mresults\u001b[49m, x\u001b[38;5;241m=\u001b[39m\u001b[38;5;124m'\u001b[39m\u001b[38;5;124mmean_latitude\u001b[39m\u001b[38;5;124m'\u001b[39m, y\u001b[38;5;241m=\u001b[39m\u001b[38;5;124m'\u001b[39m\u001b[38;5;124mpressure\u001b[39m\u001b[38;5;124m'\u001b[39m, ylim\u001b[38;5;241m=\u001b[39m(\u001b[38;5;241m100\u001b[39m, \u001b[38;5;241m0.5\u001b[39m), log_y\u001b[38;5;241m=\u001b[39m\u001b[38;5;28;01mTrue\u001b[39;00m, figsize\u001b[38;5;241m=\u001b[39m(\u001b[38;5;241m16\u001b[39m, \u001b[38;5;241m6\u001b[39m),\n\u001b[1;32m      3\u001b[0m                                 x_label\u001b[38;5;241m=\u001b[39m\u001b[38;5;124m'\u001b[39m\u001b[38;5;124mLatitude [$^\u001b[39m\u001b[38;5;124m\\\u001b[39m\u001b[38;5;124mcirc$]\u001b[39m\u001b[38;5;124m'\u001b[39m, y_label\u001b[38;5;241m=\u001b[39m\u001b[38;5;124m'\u001b[39m\u001b[38;5;124mPressure [hPa]\u001b[39m\u001b[38;5;124m'\u001b[39m, pre_title\u001b[38;5;241m=\u001b[39m\u001b[38;5;124m'\u001b[39m\u001b[38;5;124mPre 1997\u001b[39m\u001b[38;5;124m'\u001b[39m,\n\u001b[1;32m      4\u001b[0m                                 post_title\u001b[38;5;241m=\u001b[39m\u001b[38;5;124m'\u001b[39m\u001b[38;5;124mPost 1997\u001b[39m\u001b[38;5;124m'\u001b[39m)\n",
      "\u001b[0;31mNameError\u001b[0m: name 'results' is not defined"
     ]
    }
   ],
   "source": [
    "import LOTUS_regression.plotting.trends as trends\n",
    "trends.pre_post_with_confidence(results, x='mean_latitude', y='pressure', ylim=(100, 0.5), log_y=True, figsize=(16, 6),\n",
    "                                x_label='Latitude [$^\\circ$]', y_label='Pressure [hPa]', pre_title='Pre 1997',\n",
    "                                post_title='Post 1997')"
   ]
  }
 ],
 "metadata": {
  "celltoolbar": "Edit Metadata",
  "kernelspec": {
   "display_name": "Python 3",
   "language": "python",
   "name": "python3"
  },
  "language_info": {
   "codemirror_mode": {
    "name": "ipython",
    "version": 3
   },
   "file_extension": ".py",
   "mimetype": "text/x-python",
   "name": "python",
   "nbconvert_exporter": "python",
   "pygments_lexer": "ipython3",
   "version": "3.10.13"
  }
 },
 "nbformat": 4,
 "nbformat_minor": 2
}
